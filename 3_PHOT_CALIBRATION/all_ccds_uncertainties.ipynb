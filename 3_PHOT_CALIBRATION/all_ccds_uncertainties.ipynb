{
 "cells": [
  {
   "cell_type": "markdown",
   "id": "95b0ff09",
   "metadata": {},
   "source": [
    "# Sky Background Magnitude Uncertainties"
   ]
  },
  {
   "cell_type": "markdown",
   "id": "cf3a5f64",
   "metadata": {},
   "source": [
    "We're going to perform the aperture photometry. This technique consists in calculate all the flux $F$ on a determined aperture, e.g, measure all the light of the pixels inside the aperture. This flux will have $[adu]$ units. In our case, we're going to use circular apertures with a radius equals to 5 pixels distributed throughout the sky background, approximately 120 apertures per CCD.\n",
    "\n",
    "Then, we have to calculate magnitudes. The magnitude is calculated in this way:\n",
    "\n",
    "\\begin{equation*}\n",
    "    m=ZP-2.5\\log_{10}{\\left(F\\right)}\n",
    "\\end{equation*}\n",
    "\n",
    "where $ZP$ is the photometric \"zero point\" (meanwhile, we consider $ZP=0$; however, the ZP doesn't affect to the uncertainties calculation) and $F$ is the total flux in the aperture in units of $[adu]$. We'll have 120 instrumental magnitudes measured on the sky background. Now, we want the fluctuation of this magnitudes, so we're going to calculate the standard deviation of the magnitudes. The formula is:\n",
    "\n",
    "\\begin{equation*}\n",
    "    \\sigma = \\sqrt{\\frac{1}{N}\\displaystyle\\sum_{i}^{N}(m_i-\\bar{m})^2}\n",
    "\\end{equation*}\n",
    "\n",
    "where $N=120$ is the total of apertures, $m_i$ is the magnitude on the aperture $i$ and $\\bar{m}$ is the mean magnitude of the sample. Now, the quantity $\\sigma$ is unique per CCD (since it considers fluctuations caused by the effects of that CCD) and needs to be added in quadrature-sum to the magnitude error calculated by SEXtractor while performs the photometry. Considering $\\delta m$ as the magnitude error of a source, now the total magnitude error is defined by:\n",
    "\n",
    "\\begin{equation*}\n",
    "    \\Delta m_j^2=\\delta m_j^2+\\sigma^2 \\Longrightarrow \\Delta m_j=\\sqrt{\\delta m_j^2+\\sigma^2}\n",
    "\\end{equation*}\n",
    "\n",
    "where $j$ is the source in a CCD. Therefore, we have to calculate a $\\sigma^2$ fluctuation for every CCD (and filter too) caused by pupil ghosts, fringing, combine residuals, etc. Then, the actual magnitude error formula is:\n",
    "\n",
    "\\begin{equation*}\n",
    "    \\Delta m_{jk}^2=\\delta m_{jk}^2+\\sigma_j^2 \\Longrightarrow \\Delta m_{jk}=\\sqrt{\\delta m_{jk}^2+\\sigma_j^2}\n",
    "\\end{equation*}\n",
    "\n",
    "where now $j$ is the CCD and $k$ is the source in that CCD."
   ]
  },
  {
   "cell_type": "code",
   "execution_count": 5,
   "id": "11489b05",
   "metadata": {},
   "outputs": [],
   "source": [
    "from astropy.io import fits #import FITS images to the notebook\n",
    "import numpy as np #numpy, to open files and maths\n",
    "from photutils.aperture import CircularAperture,aperture_photometry #to create apertures and perform photometry\n",
    "import os #to change directories"
   ]
  },
  {
   "cell_type": "markdown",
   "id": "06ff347c",
   "metadata": {},
   "source": [
    "## Background Uncertainties Function"
   ]
  },
  {
   "cell_type": "code",
   "execution_count": 6,
   "id": "05b9f687",
   "metadata": {},
   "outputs": [],
   "source": [
    "def back_uncertainties(decam_filter,ccd):\n",
    "    os.chdir('/home/alex-cfrd/Escritorio/SEXtractor/filter_'+decam_filter+'/background_points') #move to directory\n",
    "    SIGMA = [] #to allocate sigma for each ccd\n",
    "    for i in range(1,32):\n",
    "        if i==30 and ccd=='N': #ignore ccd [N30]\n",
    "            continue\n",
    "        elif i==7 and ccd=='S':\n",
    "            continue\n",
    "        image = fits.open('/home/alex-cfrd/Escritorio/SEXtractor/filter_'+decam_filter+'/back_'+ccd+decam_filter+'.fits')[ccd+str(i)] #load image\n",
    "        data = image.data #extract image data only\n",
    "        positions = np.genfromtxt(ccd+str(i)+'_'+decam_filter+'.coo') #load coordinates files\n",
    "        apertures = CircularAperture(positions,r=10) #convert coordinates into apertures\n",
    "        phot_table = aperture_photometry(data,apertures,method='subpixel',subpixels=5) #perform aperture photometry\n",
    "        flux = phot_table['aperture_sum'] #extract flux sum column\n",
    "        #mag = -2.5*np.log10(flux) #calculate instrumental magnitud of all the apertures\n",
    "        sigma = np.std(flux) #calculate std deviation of the 120 apertures\n",
    "        SIGMA.append(sigma) #append ccd sigma to SIGMA list\n",
    "        if i<10:\n",
    "            print(str(sigma)[:9])#'Filter '+decam_filter+' sigma ['+ccd+str(i)+']  =',sigma)\n",
    "        else:\n",
    "            print(str(sigma)[:9])#'Filter '+decam_filter+' sigma ['+ccd+str(i)+'] =',sigma)\n",
    "    #STATISTICS\n",
    "    print('---------------------------------------------')\n",
    "    print('STATISTICS')\n",
    "    mean = str(np.mean(SIGMA)) #mean of S CCDs sigmas\n",
    "    #if ccd=='S':\n",
    "    #    ind_med = ' ['+ccd+str(SIGMA.index(np.median(SIGMA))+1)+']' #calculate median sigma\n",
    "    median = str(np.median(SIGMA)) #calculate median sigma\n",
    "    minimum,ind_min = str(np.min(SIGMA)),' ['+ccd+str(SIGMA.index(np.min(SIGMA))+1)+']' #extract min sigma\n",
    "    maximum,ind_max = str(np.max(SIGMA)),' ['+ccd+str(SIGMA.index(np.max(SIGMA))+1)+']' #extract max sigma\n",
    "    std = str(np.std(SIGMA)) #calculate sigmas standard deviation\n",
    "    suma = str(sum(SIGMA))\n",
    "    print('---------------------------------------------')\n",
    "    print('SIGMA Mean   =',mean[:9])\n",
    "    print('SIGMA Median =',median[:9])\n",
    "    print('SIGMA Min    =',minimum[:9]+ind_min)\n",
    "    print('SIGMA Max    =',maximum[:9]+ind_max)\n",
    "    print('SIGMA Std    =',std[:9])\n",
    "    print('SIGMA Sum    =',suma[:9])"
   ]
  },
  {
   "cell_type": "markdown",
   "id": "50e3b8b0",
   "metadata": {},
   "source": [
    "## Filter $Y$ [S1-S31]"
   ]
  },
  {
   "cell_type": "code",
   "execution_count": 7,
   "id": "4aff7a1a",
   "metadata": {},
   "outputs": [
    {
     "name": "stdout",
     "output_type": "stream",
     "text": [
      "32622.293\n",
      "2125.4919\n",
      "1939.5668\n",
      "1765.3545\n",
      "1841.3462\n",
      "143222.47\n",
      "2516.7406\n",
      "2133.2772\n",
      "1907.6856\n",
      "2044.5732\n",
      "1415.5726\n",
      "3508.3239\n",
      "1858.9496\n",
      "1966.4349\n",
      "2175.7769\n",
      "1762.5692\n",
      "19277.552\n",
      "81128.484\n",
      "25565.593\n",
      "1968.7605\n",
      "1933.3357\n",
      "1809.6753\n",
      "21947.775\n",
      "14088.961\n",
      "2485.0583\n",
      "1923.8790\n",
      "8609.6188\n",
      "23604.198\n",
      "14634.112\n",
      "17500.153\n",
      "---------------------------------------------\n",
      "STATISTICS\n",
      "---------------------------------------------\n",
      "SIGMA Mean   = 14709.453\n",
      "SIGMA Median = 2154.5270\n",
      "SIGMA Min    = 1415.5726 [S11]\n",
      "SIGMA Max    = 143222.47 [S6]\n",
      "SIGMA Std    = 28640.610\n",
      "SIGMA Sum    = 441283.59\n"
     ]
    }
   ],
   "source": [
    "back_uncertainties('Y','S')"
   ]
  },
  {
   "cell_type": "markdown",
   "id": "741682bf",
   "metadata": {},
   "source": [
    "## Filter $Y$ [N1-N31] (no [N30])"
   ]
  },
  {
   "cell_type": "code",
   "execution_count": 8,
   "id": "fcaa4cda",
   "metadata": {},
   "outputs": [
    {
     "name": "stdout",
     "output_type": "stream",
     "text": [
      "1786.2876\n",
      "1824.9599\n",
      "2139.2491\n",
      "1719.1970\n",
      "1706.5422\n",
      "1984.1148\n",
      "2048.4604\n",
      "1920.3171\n",
      "1421.6604\n",
      "1903.9503\n",
      "1816.5612\n",
      "2051.3599\n",
      "2392.5632\n",
      "2032.3630\n",
      "1682.8309\n",
      "1634.2545\n",
      "1776.2431\n",
      "1733.1582\n",
      "2264.4709\n",
      "1925.8111\n",
      "1473.8794\n",
      "1890.9768\n",
      "1668.7958\n",
      "1714.7385\n",
      "1929.6671\n",
      "1650.4255\n",
      "2786.7164\n",
      "1674.6157\n",
      "1682.0176\n",
      "1449.9942\n",
      "---------------------------------------------\n",
      "STATISTICS\n",
      "---------------------------------------------\n",
      "SIGMA Mean   = 1856.2061\n",
      "SIGMA Median = 1801.4244\n",
      "SIGMA Min    = 1421.6604 [N9]\n",
      "SIGMA Max    = 2786.7164 [N27]\n",
      "SIGMA Std    = 279.93297\n",
      "SIGMA Sum    = 55686.183\n"
     ]
    }
   ],
   "source": [
    "back_uncertainties('Y','N')"
   ]
  },
  {
   "cell_type": "markdown",
   "id": "0f8b1c18",
   "metadata": {},
   "source": [
    "## Filter $u$ [S1-S31] (no [S7])"
   ]
  },
  {
   "cell_type": "code",
   "execution_count": 9,
   "id": "a447f0d9",
   "metadata": {},
   "outputs": [
    {
     "name": "stdout",
     "output_type": "stream",
     "text": [
      "77.600408\n",
      "52.883706\n",
      "29.827814\n",
      "77.712623\n",
      "53.766727\n",
      "25.996806\n",
      "135.00006\n",
      "64.123322\n",
      "70.954445\n",
      "26.852417\n",
      "45.415931\n",
      "30.641896\n",
      "30.917956\n",
      "39.464379\n",
      "35.832179\n",
      "73.084019\n",
      "67.696212\n",
      "28.144978\n",
      "76.476152\n",
      "66.592945\n",
      "51.077395\n",
      "42.695970\n",
      "90.433026\n",
      "31.303542\n",
      "56.773276\n",
      "34.555774\n",
      "42.600078\n",
      "40.469870\n",
      "95.633523\n",
      "34.496589\n",
      "---------------------------------------------\n",
      "STATISTICS\n",
      "---------------------------------------------\n",
      "SIGMA Mean   = 54.300801\n",
      "SIGMA Median = 48.246663\n",
      "SIGMA Min    = 25.996806 [S6]\n",
      "SIGMA Max    = 135.00006 [S7]\n",
      "SIGMA Std    = 24.861654\n",
      "SIGMA Sum    = 1629.0240\n"
     ]
    }
   ],
   "source": [
    "back_uncertainties('u','S')"
   ]
  },
  {
   "cell_type": "markdown",
   "id": "35c96a2a",
   "metadata": {},
   "source": [
    "## Filter $u$ [N1-N31] (no [N30])"
   ]
  },
  {
   "cell_type": "code",
   "execution_count": 10,
   "id": "1f6bfb6e",
   "metadata": {
    "scrolled": false
   },
   "outputs": [
    {
     "name": "stdout",
     "output_type": "stream",
     "text": [
      "121.37240\n",
      "93.652845\n",
      "120.12744\n",
      "46.645432\n",
      "37.511536\n",
      "52.100536\n",
      "22.518595\n",
      "30.219789\n",
      "47.458005\n",
      "103.91576\n",
      "33.525058\n",
      "86.584458\n",
      "64.295233\n",
      "131.66227\n",
      "28.344850\n",
      "38.690151\n",
      "30.589835\n",
      "25.848131\n",
      "104.23203\n",
      "46.899635\n",
      "37.517616\n",
      "49.549433\n",
      "46.916857\n",
      "99.128044\n",
      "26.696899\n",
      "33.176492\n",
      "48.468976\n",
      "32.730062\n",
      "34.536719\n",
      "127.42518\n",
      "---------------------------------------------\n",
      "STATISTICS\n",
      "---------------------------------------------\n",
      "SIGMA Mean   = 60.078010\n",
      "SIGMA Median = 46.908246\n",
      "SIGMA Min    = 22.518595 [N7]\n",
      "SIGMA Max    = 131.66227 [N14]\n",
      "SIGMA Std    = 34.656427\n",
      "SIGMA Sum    = 1802.3403\n"
     ]
    }
   ],
   "source": [
    "back_uncertainties('u','N')"
   ]
  },
  {
   "cell_type": "markdown",
   "id": "6a77ee66",
   "metadata": {},
   "source": [
    "## Filter $g$ [S1-S31] (no [S7])"
   ]
  },
  {
   "cell_type": "code",
   "execution_count": 11,
   "id": "85e547a0",
   "metadata": {},
   "outputs": [
    {
     "name": "stdout",
     "output_type": "stream",
     "text": [
      "339.86629\n",
      "298.45061\n",
      "176.18324\n",
      "470.67144\n",
      "838.68454\n",
      "139.84994\n",
      "1174.7456\n",
      "315.54012\n",
      "146.07054\n",
      "111.29942\n",
      "471.53296\n",
      "146.31982\n",
      "196.57432\n",
      "338.08628\n",
      "289.22371\n",
      "171.63545\n",
      "107.04028\n",
      "250.85757\n",
      "136.38952\n",
      "175.44880\n",
      "429.70910\n",
      "127.69577\n",
      "509.68576\n",
      "193.69246\n",
      "1220.8833\n",
      "169.00027\n",
      "163.18453\n",
      "260.06340\n",
      "1542.5794\n",
      "223.02990\n",
      "---------------------------------------------\n",
      "STATISTICS\n",
      "---------------------------------------------\n",
      "SIGMA Mean   = 371.13315\n",
      "SIGMA Median = 236.94374\n",
      "SIGMA Min    = 107.04028 [S17]\n",
      "SIGMA Max    = 1542.5794 [S29]\n",
      "SIGMA Std    = 352.88001\n",
      "SIGMA Sum    = 11133.994\n"
     ]
    }
   ],
   "source": [
    "back_uncertainties('g','S')"
   ]
  },
  {
   "cell_type": "markdown",
   "id": "ba52afaa",
   "metadata": {},
   "source": [
    "## Filter $g$ [N1-N31] (no [N30])"
   ]
  },
  {
   "cell_type": "code",
   "execution_count": 12,
   "id": "b522674d",
   "metadata": {},
   "outputs": [
    {
     "name": "stdout",
     "output_type": "stream",
     "text": [
      "96.662262\n",
      "251.64435\n",
      "1838.9072\n",
      "415.68211\n",
      "434.71001\n",
      "814.68081\n",
      "169.68542\n",
      "265.59605\n",
      "544.18494\n",
      "212.18400\n",
      "131.78101\n",
      "114.47600\n",
      "450.80122\n",
      "175.08513\n",
      "194.84582\n",
      "681.83823\n",
      "332.66902\n",
      "381.70381\n",
      "262.25154\n",
      "267.83089\n",
      "568.27095\n",
      "236.43404\n",
      "206.24061\n",
      "91.441297\n",
      "316.96220\n",
      "346.25337\n",
      "1554.9275\n",
      "219.43511\n",
      "526.89310\n",
      "96.039437\n",
      "---------------------------------------------\n",
      "STATISTICS\n",
      "---------------------------------------------\n",
      "SIGMA Mean   = 406.67058\n",
      "SIGMA Median = 266.71347\n",
      "SIGMA Min    = 91.441297 [N24]\n",
      "SIGMA Max    = 1838.9072 [N3]\n",
      "SIGMA Std    = 388.40490\n",
      "SIGMA Sum    = 12200.117\n"
     ]
    }
   ],
   "source": [
    "back_uncertainties('g','N')"
   ]
  },
  {
   "cell_type": "markdown",
   "id": "5ee6b3d8",
   "metadata": {},
   "source": [
    "## Filter $r$ [S1-S31] (no [S7])"
   ]
  },
  {
   "cell_type": "code",
   "execution_count": 13,
   "id": "5331f356",
   "metadata": {},
   "outputs": [
    {
     "name": "stdout",
     "output_type": "stream",
     "text": [
      "742.21891\n",
      "439.72043\n",
      "364.55230\n",
      "638.47727\n",
      "1644.8730\n",
      "222.56763\n",
      "1163.3281\n",
      "253.33073\n",
      "222.40224\n",
      "251.92534\n",
      "268.07076\n",
      "197.12442\n",
      "391.53334\n",
      "505.32296\n",
      "264.65241\n",
      "261.36492\n",
      "217.80469\n",
      "562.45226\n",
      "508.55658\n",
      "244.85162\n",
      "624.28849\n",
      "222.44441\n",
      "461.91182\n",
      "305.73339\n",
      "386.22822\n",
      "230.58152\n",
      "222.38936\n",
      "371.39784\n",
      "825.05206\n",
      "509.91029\n",
      "---------------------------------------------\n",
      "STATISTICS\n",
      "---------------------------------------------\n",
      "SIGMA Mean   = 450.83558\n",
      "SIGMA Median = 367.97507\n",
      "SIGMA Min    = 197.12442 [S12]\n",
      "SIGMA Max    = 1644.8730 [S5]\n",
      "SIGMA Std    = 310.34369\n",
      "SIGMA Sum    = 13525.067\n"
     ]
    }
   ],
   "source": [
    "back_uncertainties('r','S')"
   ]
  },
  {
   "cell_type": "markdown",
   "id": "3b95b75f",
   "metadata": {},
   "source": [
    "## Filter $r$ [N1-N31] (no [N30])"
   ]
  },
  {
   "cell_type": "code",
   "execution_count": 14,
   "id": "483bc0b3",
   "metadata": {},
   "outputs": [
    {
     "name": "stdout",
     "output_type": "stream",
     "text": [
      "235.47671\n",
      "565.26419\n",
      "6873.0888\n",
      "1109.3096\n",
      "606.78211\n",
      "3039.0622\n",
      "321.91034\n",
      "446.42197\n",
      "458.08568\n",
      "443.09666\n",
      "304.35343\n",
      "220.36343\n",
      "2214.7166\n",
      "278.66206\n",
      "473.85672\n",
      "1128.6504\n",
      "570.58697\n",
      "1232.6967\n",
      "9090.3829\n",
      "327.28872\n",
      "916.85360\n",
      "367.34045\n",
      "315.73743\n",
      "245.31821\n",
      "721.97460\n",
      "388.13892\n",
      "4051.7296\n",
      "442.33609\n",
      "1201.7998\n",
      "1218.5487\n",
      "---------------------------------------------\n",
      "STATISTICS\n",
      "---------------------------------------------\n",
      "SIGMA Mean   = 1326.9944\n",
      "SIGMA Median = 519.56045\n",
      "SIGMA Min    = 220.36343 [N12]\n",
      "SIGMA Max    = 9090.3829 [N19]\n",
      "SIGMA Std    = 1990.7186\n",
      "SIGMA Sum    = 39809.834\n"
     ]
    }
   ],
   "source": [
    "back_uncertainties('r','N')"
   ]
  },
  {
   "cell_type": "markdown",
   "id": "3be00239",
   "metadata": {},
   "source": [
    "## Filter $z$ [S1-S31] (no [S7])"
   ]
  },
  {
   "cell_type": "code",
   "execution_count": 15,
   "id": "aa4e168e",
   "metadata": {},
   "outputs": [
    {
     "name": "stdout",
     "output_type": "stream",
     "text": [
      "1048.4459\n",
      "1833.8201\n",
      "2428.8501\n",
      "2078.8305\n",
      "1223.1585\n",
      "1084.6522\n",
      "8059.0043\n",
      "933.43272\n",
      "1807.6995\n",
      "1258.5427\n",
      "1002.6989\n",
      "1560.0797\n",
      "1045.5470\n",
      "1029.5559\n",
      "1042.1747\n",
      "1112.3176\n",
      "1146.6576\n",
      "899.28148\n",
      "1025.6083\n",
      "1122.6600\n",
      "2010.5801\n",
      "1639.7117\n",
      "1117.4068\n",
      "1101.2067\n",
      "2487.1857\n",
      "1032.9107\n",
      "1241.9626\n",
      "89018.862\n",
      "113083.22\n",
      "28557.046\n",
      "---------------------------------------------\n",
      "STATISTICS\n",
      "---------------------------------------------\n",
      "SIGMA Mean   = 9134.4373\n",
      "SIGMA Median = 1184.9080\n",
      "SIGMA Min    = 899.28148 [S18]\n",
      "SIGMA Max    = 113083.22 [S29]\n",
      "SIGMA Std    = 25260.579\n",
      "SIGMA Sum    = 274033.11\n"
     ]
    }
   ],
   "source": [
    "back_uncertainties('z','S')"
   ]
  },
  {
   "cell_type": "markdown",
   "id": "ccadd9b4",
   "metadata": {},
   "source": [
    "## Filter $z$ [N1-N31] (no [N30])"
   ]
  },
  {
   "cell_type": "code",
   "execution_count": 16,
   "id": "bcad6d20",
   "metadata": {},
   "outputs": [
    {
     "name": "stdout",
     "output_type": "stream",
     "text": [
      "1040.5633\n",
      "2501.2521\n",
      "6623.7406\n",
      "3654.0828\n",
      "1620.7585\n",
      "27199.987\n",
      "1051.3923\n",
      "3681.4028\n",
      "1461.1630\n",
      "2121.1649\n",
      "1169.0034\n",
      "951.21328\n",
      "8438.1995\n",
      "1194.0316\n",
      "1539.3470\n",
      "8053.4061\n",
      "1624.7313\n",
      "5343.4549\n",
      "17361.006\n",
      "1716.5592\n",
      "2468.5963\n",
      "1069.6719\n",
      "5190.4213\n",
      "1103.2094\n",
      "1435.3902\n",
      "5427.9707\n",
      "9540.4458\n",
      "2630.3878\n",
      "88117.757\n",
      "95423.592\n",
      "---------------------------------------------\n",
      "STATISTICS\n",
      "---------------------------------------------\n",
      "SIGMA Mean   = 10358.463\n",
      "SIGMA Median = 2484.9242\n",
      "SIGMA Min    = 951.21328 [N12]\n",
      "SIGMA Max    = 95423.592 [N30]\n",
      "SIGMA Std    = 22451.667\n",
      "SIGMA Sum    = 310753.90\n"
     ]
    }
   ],
   "source": [
    "back_uncertainties('z','N')"
   ]
  },
  {
   "cell_type": "markdown",
   "id": "9a860bd2",
   "metadata": {},
   "source": [
    "## Filter $i$ [S1-S31] (no [S7])"
   ]
  },
  {
   "cell_type": "code",
   "execution_count": 17,
   "id": "14de168b",
   "metadata": {},
   "outputs": [
    {
     "name": "stdout",
     "output_type": "stream",
     "text": [
      "975.64785\n",
      "1179.6035\n",
      "927.73576\n",
      "1019.7208\n",
      "1873.1531\n",
      "665.56354\n",
      "2472.3669\n",
      "893.10032\n",
      "795.89496\n",
      "1076.8611\n",
      "842.44530\n",
      "788.51172\n",
      "1014.6321\n",
      "809.31124\n",
      "1019.6632\n",
      "849.17825\n",
      "873.79834\n",
      "783.95858\n",
      "896.81171\n",
      "967.90919\n",
      "1212.8023\n",
      "939.28469\n",
      "1316.3244\n",
      "824.82579\n",
      "835.32043\n",
      "750.57868\n",
      "892.77961\n",
      "784.72724\n",
      "1467.7590\n",
      "847.23200\n",
      "---------------------------------------------\n",
      "STATISTICS\n",
      "---------------------------------------------\n",
      "SIGMA Mean   = 1019.9167\n",
      "SIGMA Median = 894.95602\n",
      "SIGMA Min    = 665.56354 [S6]\n",
      "SIGMA Max    = 2472.3669 [S7]\n",
      "SIGMA Std    = 360.56562\n",
      "SIGMA Sum    = 30597.502\n"
     ]
    }
   ],
   "source": [
    "back_uncertainties('i','S')"
   ]
  },
  {
   "cell_type": "markdown",
   "id": "840138a7",
   "metadata": {},
   "source": [
    "## Filter $i$ [N1-N31] (no [N30])"
   ]
  },
  {
   "cell_type": "code",
   "execution_count": 18,
   "id": "8f429d3b",
   "metadata": {},
   "outputs": [
    {
     "name": "stdout",
     "output_type": "stream",
     "text": [
      "741.77070\n",
      "1112.0998\n",
      "1006.3825\n",
      "6875.6399\n",
      "4229.3782\n",
      "11020.247\n",
      "814.35508\n",
      "877.30942\n",
      "2914.8579\n",
      "843.89124\n",
      "971.75161\n",
      "789.78680\n",
      "1873.6615\n",
      "961.26644\n",
      "777.66875\n",
      "28818.520\n",
      "927.81958\n",
      "3750.8702\n",
      "12138.167\n",
      "1144.6378\n",
      "2147.2596\n",
      "1237.8827\n",
      "889.64515\n",
      "778.32826\n",
      "905.94820\n",
      "914.30246\n",
      "14459.449\n",
      "848.24564\n",
      "1419.1388\n",
      "26792.782\n",
      "---------------------------------------------\n",
      "STATISTICS\n",
      "---------------------------------------------\n",
      "SIGMA Mean   = 4432.7688\n",
      "SIGMA Median = 1059.2411\n",
      "SIGMA Min    = 741.77070 [N1]\n",
      "SIGMA Max    = 28818.520 [N16]\n",
      "SIGMA Std    = 7188.2196\n",
      "SIGMA Sum    = 132983.06\n"
     ]
    }
   ],
   "source": [
    "back_uncertainties('i','N')"
   ]
  }
 ],
 "metadata": {
  "kernelspec": {
   "display_name": "Python 3",
   "language": "python",
   "name": "python3"
  },
  "language_info": {
   "codemirror_mode": {
    "name": "ipython",
    "version": 3
   },
   "file_extension": ".py",
   "mimetype": "text/x-python",
   "name": "python",
   "nbconvert_exporter": "python",
   "pygments_lexer": "ipython3",
   "version": "3.8.10"
  }
 },
 "nbformat": 4,
 "nbformat_minor": 5
}
