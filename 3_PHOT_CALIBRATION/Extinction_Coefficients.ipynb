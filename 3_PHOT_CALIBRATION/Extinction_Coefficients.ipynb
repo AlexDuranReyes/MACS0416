{
 "cells": [
  {
   "cell_type": "markdown",
   "id": "0ebe8644",
   "metadata": {},
   "source": [
    "# Photometric Extinction Coefficients"
   ]
  },
  {
   "cell_type": "markdown",
   "id": "c574f727",
   "metadata": {},
   "source": [
    "In order to calculate magnitudes above the atmosphere, we need to estimate the atmosphere effect on the flux of the objects. To do that, we have to perform aperture photometry in the same objects and in all the individual exposures, calculate the magnitudes and then, compare them with the airmass of that exposure. After that, we fit a linear regresion model to the data sample, where the variables are:\n",
    "\n",
    "\\begin{equation*}\n",
    "    \\begin{split}\n",
    "        X &= \\text{AIRMASS}\\\\\n",
    "        Y &= \\text{INSTRUMENTAL MAG}\n",
    "    \\end{split}\n",
    "\\end{equation*}\n",
    "\n",
    "Finally, we calculate the $b_0$ term of the regression model. This value is the $k$ extinction coefficient, that corresponds to the slope of the linear fit in a AIRMASS v/s INS_MAG plot. This value has to be calculated for every CCD, but we can calculate the mean $K$ extinction coefficient per filter. This values are:\n",
    "\n",
    "\\begin{equation*}\n",
    "    \\begin{split}\n",
    "    K_Y &= 0.1228\\\\\n",
    "    K_u &= 0.3913\n",
    "    \\end{split}\n",
    "\\end{equation*}\n",
    "\n",
    "in units of $[mag/airmass]$. Also, the mean airmass for each filter are:\n",
    "\n",
    "\\begin{align*}\n",
    "    \\bar{X_Y} &= 1.405\\\\\n",
    "    \\bar{X_u} &= 1.061\n",
    "\\end{align*}\n",
    "\n",
    "This notebook perform all this work and calculates all the $k$ extinction coefficients for each CCD and the mean $K$ extinction coefficient for each filter."
   ]
  },
  {
   "cell_type": "code",
   "execution_count": 1,
   "id": "3e42acde",
   "metadata": {},
   "outputs": [
    {
     "name": "stderr",
     "output_type": "stream",
     "text": [
      "<frozen importlib._bootstrap>:219: RuntimeWarning: scipy._lib.messagestream.MessageStream size changed, may indicate binary incompatibility. Expected 56 from C header, got 64 from PyObject\n"
     ]
    }
   ],
   "source": [
    "from astropy.io import fits #to load FITS images\n",
    "import time #count time\n",
    "from photutils import CircularAperture,aperture_photometry #to create apertures and perform photometry\n",
    "import numpy as np #numpy, to open files and maths\n",
    "from sklearn.linear_model import LinearRegression #apply a linear regression to data\n",
    "import matplotlib.pyplot as plt #in case of plotting the data\n",
    "import os #to change directories"
   ]
  },
  {
   "cell_type": "markdown",
   "id": "11357f57",
   "metadata": {},
   "source": [
    "## Extinction Coefficient Calculator"
   ]
  },
  {
   "cell_type": "code",
   "execution_count": 2,
   "id": "e01346c2",
   "metadata": {},
   "outputs": [],
   "source": [
    "def extinction_coeff(decam_filter,ccd):\n",
    "    os.chdir('/home/alex-cfrd/Escritorio/extinction_coeff/filter_'+decam_filter+'/'+ccd+'/') #move to directory\n",
    "    if decam_filter=='Y':\n",
    "        airmass = np.array([2.01,1.78,1.68,1.58,1.5,1.43,1.37,1.31,1.26,1.11,1.14,1.17,1.21,1.25,1.29,1.34,1.4,1.47]).reshape((-1,1)) #airmass of each exposure\n",
    "        n = 18 #18 exposures in filter Y\n",
    "    elif decam_filter=='u':\n",
    "        airmass = np.array([1.22,1.18,1.15,1.12,1.09,1.07,1.06,1.04,1.03,1.02,1.01,1.01,1.01,1.01,1.01,1.01,1.02,1.03,1.04,1.05,1.07,1.09]).reshape((-1,1)) #airmass of each exposure\n",
    "        n = 22 #22 exposures in filter u\n",
    "    coord_0 = np.genfromtxt('coord_0.txt') #object coord in first exposure\n",
    "    ext_coeff = []\n",
    "    for j in range(1,32):\n",
    "        if j==30 and ccd=='N':\n",
    "            continue\n",
    "        obj_center = [] #list of object center in each exposure\n",
    "        offsets = np.genfromtxt('offsets_'+ccd+str(j)+'.txt') #offsets of exposures, to calculate the other coords\n",
    "        for i in range(n):\n",
    "            x = coord_0[j-1][0] - offsets[i][0] #x coord\n",
    "            y = coord_0[j-1][1] - offsets[i][1] #y coord\n",
    "            obj_center.append([x,y]) #fill coords list\n",
    "        apertures = CircularAperture(obj_center,r=10) #convert coords to apertures\n",
    "        MAGS = [] #empty list of magnitudes\n",
    "        for i in range(1,n+1): #from exposure 1 to 18\n",
    "            if i<10:\n",
    "                image = fits.open('back'+ccd+'_'+decam_filter+'0'+str(i)+'.fits')\n",
    "            else:\n",
    "                image = fits.open('back'+ccd+'_'+decam_filter+str(i)+'.fits')\n",
    "            data = image[j].data #data of CCD [j]\n",
    "            phot = aperture_photometry(data,apertures[i-1]) #perform photometry\n",
    "            mag = -2.5*np.log10(phot['aperture_sum']) #calculate magnitude\n",
    "            MAGS.append(mag[0]) #append data to mag list\n",
    "        MAGS = np.array(MAGS) #convert mag list to tarray\n",
    "        model = LinearRegression() #set a linear regression model\n",
    "        model.fit(airmass,MAGS) #adjust linearly airmass and magnitudes\n",
    "        b_0 = round(float(model.coef_),5) #extract b_0 coeff = k extinction coeff\n",
    "        ext_coeff.append(b_0) #extinction coeffs from 1 to S31\n",
    "        if j<10:\n",
    "            print(str(b_0)[:8]+',')#'k extinction coefficient CCD ['+ccd+str(j)+']  =',b_0) #print each k\n",
    "        else:\n",
    "            print(str(b_0)[:8]+',')#'k extinction coefficient CCD ['+ccd+str(j)+'] =',b_0) #print each k\n",
    "    #STATISTICS\n",
    "    print('---------------------------------------------')\n",
    "    print('STATISTICS')\n",
    "    mean = str(np.mean(ext_coeff)) #mean of CCDs ext_coeff\n",
    "    if ccd=='S':\n",
    "        ind_med = ' ['+ccd+str(ext_coeff.index(np.median(ext_coeff))+1)+']' #calculate median ext_coeff\n",
    "    median = str(np.median(ext_coeff)) #calculate median ext_coeff\n",
    "    minimum,ind_min = str(np.min(ext_coeff)),' ['+ccd+str(ext_coeff.index(np.min(ext_coeff))+1)+']' #extract min ext_coeff\n",
    "    maximum,ind_max = str(np.max(ext_coeff)),' ['+ccd+str(ext_coeff.index(np.max(ext_coeff))+1)+']' #extract max ext_coeff\n",
    "    std = str(np.std(ext_coeff)) #calculate ext_coeff standard deviation\n",
    "    suma = str(sum(ext_coeff))\n",
    "    print('---------------------------------------------')\n",
    "    print('SIGMA Mean   =',mean[:9])\n",
    "    if ccd=='S':\n",
    "        print('SIGMA Median =',median[:9]+ind_med)\n",
    "    elif ccd=='N':\n",
    "        print('SIGMA Median =',median[:9])\n",
    "    print('SIGMA Min    =',minimum[:9]+ind_min)\n",
    "    print('SIGMA Max    =',maximum[:9]+ind_max)\n",
    "    print('SIGMA Std    =',std[:9])\n",
    "    print('SIGMA Sum    =',suma[:9])"
   ]
  },
  {
   "cell_type": "markdown",
   "id": "21c77dd1",
   "metadata": {},
   "source": [
    "## Filter $Y$ [S1-S31]"
   ]
  },
  {
   "cell_type": "code",
   "execution_count": 3,
   "id": "ef699fed",
   "metadata": {},
   "outputs": [
    {
     "name": "stdout",
     "output_type": "stream",
     "text": [
      "0.11727,\n",
      "0.11793,\n",
      "0.11332,\n",
      "0.12294,\n",
      "0.1228,\n",
      "0.12252,\n",
      "0.1323,\n",
      "0.11989,\n",
      "0.11985,\n",
      "0.1197,\n",
      "0.12237,\n",
      "0.13256,\n",
      "0.13355,\n",
      "0.11604,\n",
      "0.11933,\n",
      "0.12519,\n",
      "0.12409,\n",
      "0.11976,\n",
      "0.12539,\n",
      "0.11726,\n",
      "0.11884,\n",
      "0.12472,\n",
      "0.12118,\n",
      "0.13073,\n",
      "0.12033,\n",
      "0.12216,\n",
      "0.12398,\n",
      "0.13307,\n",
      "0.13389,\n",
      "0.12899,\n",
      "0.12842,\n",
      "---------------------------------------------\n",
      "STATISTICS\n",
      "---------------------------------------------\n",
      "SIGMA Mean   = 0.1235603\n",
      "SIGMA Median = 0.12252 [S6]\n",
      "SIGMA Min    = 0.11332 [S3]\n",
      "SIGMA Max    = 0.13389 [S29]\n",
      "SIGMA Std    = 0.0055569\n",
      "SIGMA Sum    = 3.83037\n"
     ]
    }
   ],
   "source": [
    "extinction_coeff('Y','S')"
   ]
  },
  {
   "cell_type": "markdown",
   "id": "996a30aa",
   "metadata": {},
   "source": [
    "## Filter $Y$ [N1-N31] (no [N30])"
   ]
  },
  {
   "cell_type": "code",
   "execution_count": 4,
   "id": "2bc084fb",
   "metadata": {
    "scrolled": false
   },
   "outputs": [
    {
     "name": "stdout",
     "output_type": "stream",
     "text": [
      "0.12093,\n",
      "0.11962,\n",
      "0.12072,\n",
      "0.1221,\n",
      "0.12424,\n",
      "0.13321,\n",
      "0.12978,\n",
      "0.12089,\n",
      "0.11679,\n",
      "0.1194,\n",
      "0.12013,\n",
      "0.12361,\n",
      "0.12626,\n",
      "0.11631,\n",
      "0.12238,\n",
      "0.12284,\n",
      "0.12328,\n",
      "0.12547,\n",
      "0.12888,\n",
      "0.11798,\n",
      "0.11965,\n",
      "0.11414,\n",
      "0.12835,\n",
      "0.1266,\n",
      "0.11744,\n",
      "0.1266,\n",
      "0.12686,\n",
      "0.12688,\n",
      "0.12001,\n",
      "0.13064,\n",
      "---------------------------------------------\n",
      "STATISTICS\n",
      "---------------------------------------------\n",
      "SIGMA Mean   = 0.1230663\n",
      "SIGMA Median = 0.12261\n",
      "SIGMA Min    = 0.11414 [N22]\n",
      "SIGMA Max    = 0.13321 [N6]\n",
      "SIGMA Std    = 0.0045902\n",
      "SIGMA Sum    = 3.6919900\n"
     ]
    }
   ],
   "source": [
    "extinction_coeff('Y','N')"
   ]
  },
  {
   "cell_type": "markdown",
   "id": "764ccccd",
   "metadata": {},
   "source": [
    "## Filter $u$ [S1-S31]"
   ]
  },
  {
   "cell_type": "code",
   "execution_count": 5,
   "id": "8ff07e8e",
   "metadata": {},
   "outputs": [
    {
     "name": "stdout",
     "output_type": "stream",
     "text": [
      "0.32098,\n",
      "0.36529,\n",
      "0.35716,\n",
      "0.36523,\n",
      "0.41083,\n",
      "0.41817,\n",
      "0.54112,\n",
      "0.37353,\n",
      "0.38323,\n",
      "0.38054,\n",
      "0.38698,\n",
      "0.41049,\n",
      "0.40152,\n",
      "0.38117,\n",
      "0.38258,\n",
      "0.39302,\n",
      "0.39297,\n",
      "0.43238,\n",
      "0.44422,\n",
      "0.38496,\n",
      "0.39936,\n",
      "0.3956,\n",
      "0.40568,\n",
      "0.42826,\n",
      "0.36452,\n",
      "0.39505,\n",
      "0.39532,\n",
      "0.40979,\n",
      "0.40412,\n",
      "0.40595,\n",
      "0.41053,\n",
      "---------------------------------------------\n",
      "STATISTICS\n",
      "---------------------------------------------\n",
      "SIGMA Mean   = 0.3980822\n",
      "SIGMA Median = 0.39532 [S27]\n",
      "SIGMA Min    = 0.32098 [S1]\n",
      "SIGMA Max    = 0.54112 [S7]\n",
      "SIGMA Std    = 0.0353713\n",
      "SIGMA Sum    = 12.34055\n"
     ]
    }
   ],
   "source": [
    "extinction_coeff('u','S')"
   ]
  },
  {
   "cell_type": "markdown",
   "id": "58b9fd60",
   "metadata": {},
   "source": [
    "## Filter $u$ [N1-N31] (no [N30])"
   ]
  },
  {
   "cell_type": "code",
   "execution_count": 6,
   "id": "3fa72b09",
   "metadata": {},
   "outputs": [
    {
     "name": "stdout",
     "output_type": "stream",
     "text": [
      "0.36922,\n",
      "0.37772,\n",
      "0.32226,\n",
      "0.39862,\n",
      "0.3903,\n",
      "0.41462,\n",
      "0.42095,\n",
      "0.39511,\n",
      "0.33896,\n",
      "0.36022,\n",
      "0.37846,\n",
      "0.45277,\n",
      "0.42454,\n",
      "0.38172,\n",
      "0.36483,\n",
      "0.34736,\n",
      "0.37087,\n",
      "0.38664,\n",
      "0.42679,\n",
      "0.34806,\n",
      "0.403,\n",
      "0.37795,\n",
      "0.38346,\n",
      "0.41392,\n",
      "0.31706,\n",
      "0.40766,\n",
      "0.36068,\n",
      "0.37759,\n",
      "0.38399,\n",
      "0.49174,\n",
      "---------------------------------------------\n",
      "STATISTICS\n",
      "---------------------------------------------\n",
      "SIGMA Mean   = 0.3862356\n",
      "SIGMA Median = 0.38259\n",
      "SIGMA Min    = 0.31706 [N25]\n",
      "SIGMA Max    = 0.49174 [N30]\n",
      "SIGMA Std    = 0.0361206\n",
      "SIGMA Sum    = 11.58707\n"
     ]
    }
   ],
   "source": [
    "extinction_coeff('u','N')"
   ]
  }
 ],
 "metadata": {
  "kernelspec": {
   "display_name": "Python 3",
   "language": "python",
   "name": "python3"
  },
  "language_info": {
   "codemirror_mode": {
    "name": "ipython",
    "version": 3
   },
   "file_extension": ".py",
   "mimetype": "text/x-python",
   "name": "python",
   "nbconvert_exporter": "python",
   "pygments_lexer": "ipython3",
   "version": "3.8.10"
  }
 },
 "nbformat": 4,
 "nbformat_minor": 5
}
