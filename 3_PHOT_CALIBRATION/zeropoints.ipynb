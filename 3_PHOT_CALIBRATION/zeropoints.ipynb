{
 "cells": [
  {
   "cell_type": "markdown",
   "id": "36ef84ae",
   "metadata": {},
   "source": [
    "# Photometric Zeropoints"
   ]
  },
  {
   "cell_type": "code",
   "execution_count": 1,
   "id": "d6aca8fc",
   "metadata": {},
   "outputs": [],
   "source": [
    "from astropy.io.votable import parse_single_table\n",
    "from astropy.io.votable import from_table,writeto\n",
    "from astropy import units as u\n",
    "\n",
    "import matplotlib.pyplot as plt #to plot\n",
    "import math\n",
    "import numpy as np\n",
    "import os\n",
    "from IPython.display import display,Image #to display tables in a well-looked format"
   ]
  },
  {
   "cell_type": "markdown",
   "id": "b2a600a0",
   "metadata": {},
   "source": [
    "## Preliminary data"
   ]
  },
  {
   "cell_type": "markdown",
   "id": "0722e9e8",
   "metadata": {},
   "source": [
    "Mean Extinction Coefficient and Field 01 Airmass:\n",
    "\n",
    "\\begin{align*}\n",
    "    K_Y &= 0.1228\\\\\n",
    "    X_Y &= 1.405\\\\\n",
    "    K_u &= 0.3913\\\\\n",
    "    X_u &= 1.061\n",
    "\\end{align*}"
   ]
  },
  {
   "cell_type": "markdown",
   "id": "a869f4de",
   "metadata": {},
   "source": [
    "# ZeroPoint Calculator Function"
   ]
  },
  {
   "cell_type": "code",
   "execution_count": 5,
   "id": "ba3f3916",
   "metadata": {},
   "outputs": [],
   "source": [
    "def zeropoint(decam_filter,ccd,K,X,exptime): #decam_filter=u or Y , ccd=S or N , K=extinction coeff , X=airmass\n",
    "    os.chdir('/home/alex-cfrd/Escritorio/SEXtractor/filter_'+decam_filter+'/') #move to the directory\n",
    "    #number of CCDs\n",
    "    if ccd=='S':\n",
    "        number_ccds = 31\n",
    "    elif ccd=='N':\n",
    "        number_ccds = 30\n",
    "    #LOAD CATALOG\n",
    "    if decam_filter=='u':\n",
    "        stand = parse_single_table('gsc_'+ccd+decam_filter+'.vot').to_table() #convert the vot file to table\n",
    "    else:\n",
    "        stand = parse_single_table('des_'+ccd+decam_filter+'.vot').to_table()\n",
    "    #REMOVE OUTLAYERS\n",
    "    stand.remove_rows(stand['FLUX_AUTO']<=0.0) #remove outlayers\n",
    "    stand.remove_rows(stand['FLUX_APER']<=0.0) #remove outlayers\n",
    "    #ZEROPOINT CATALOG COLUMN\n",
    "    stand.add_column(1.0*u.mag,name='ZEROPOINT') #add a preliminary zeropoint column\n",
    "    stand.add_column(ccd,name='CCD',index=1) #add a ccd column (identify S and N)\n",
    "    #FIX STRING TYPE COLUMNS\n",
    "    for col in stand.itercols():\n",
    "        if col.dtype.kind in 'SU':\n",
    "            stand.replace_column(col.name, col.astype('object'))\n",
    "    #ENUMERATE ROWS AND FIX EXTENSION CCDs\n",
    "    for i in range(len(stand['NUMBER'])): #for each row\n",
    "        stand['NUMBER'][i] = i+1 #reorganize numerically the object number\n",
    "        if ccd=='N' and stand['EXT_NUMBER'][i]==30:\n",
    "            stand['CCD'][i] += str(stand['EXT_NUMBER'][i]+1)\n",
    "        else:\n",
    "            stand['CCD'][i] += str(stand['EXT_NUMBER'][i])\n",
    "        stand['MAG_APER'][i] += 2.5*math.log10(exptime)\n",
    "        stand['MAG_AUTO'][i] += 2.5*math.log10(exptime)\n",
    "    #ZEROPOINTS AND ERRORS CCD SETS EMPTY LISTS\n",
    "    ZP = [] #to allocate the zeropoint samples per ccd\n",
    "    ZP_delta = [] #to allocate the zeropoint sample deltas per ccd\n",
    "    #CALCULATE ZEROPOINTS\n",
    "    for i in range(1,number_ccds+1): #for each CCD\n",
    "        if decam_filter == 'u':\n",
    "            mag_cat = stand[stand['EXT_NUMBER']==i]['umag'] #extract the cat_mag for CCD [Si]\n",
    "            mag_ins = stand[stand['EXT_NUMBER']==i]['MAG_AUTO']-K*X #extract the sex_mag for CCD [Si] and apply atmospheric correction\n",
    "            delta_cat = stand[stand['EXT_NUMBER']==i]['e_umag'] #extract the cat_mag_err for CCD [Si] \n",
    "            delta_ins = stand[stand['EXT_NUMBER']==i]['MAGERR_AUTO'] #extract sex_mag_err for CCD [Si]\n",
    "        elif decam_filter == 'Y':\n",
    "            mag_cat = stand[stand['EXT_NUMBER']==i]['mag_auto_y'] #extract the cat_mag for CCD [Si]\n",
    "            mag_ins = stand[stand['EXT_NUMBER']==i]['MAG_AUTO']-K*X #extract the sex_mag for CCD [Si] and apply atmospheric correction\n",
    "            delta_cat = stand[stand['EXT_NUMBER']==i]['magerr_auto_y'] #extract the cat_mag_err for CCD [Si] \n",
    "            delta_ins = stand[stand['EXT_NUMBER']==i]['MAGERR_AUTO'] #extract sex_mag_err for CCD [Si]\n",
    "        else:\n",
    "            mag_cat = stand[stand['EXT_NUMBER']==i]['mag_auto_'+decam_filter] #extract the cat_mag for CCD [Si]\n",
    "            mag_ins = stand[stand['EXT_NUMBER']==i]['MAG_AUTO']-K*X #extract the sex_mag for CCD [Si] and apply atmospheric correction\n",
    "            delta_cat = stand[stand['EXT_NUMBER']==i]['magerr_auto_'+decam_filter] #extract the cat_mag_err for CCD [Si] \n",
    "            delta_ins = stand[stand['EXT_NUMBER']==i]['MAGERR_AUTO'] #extract sex_mag_err for CCD [Si]\n",
    "        delta = np.sqrt(delta_cat**2 + delta_ins**2) #error propagation\n",
    "        zp = mag_cat - mag_ins #calculate zeropoint\n",
    "        for j in range(len(zp)):\n",
    "            if zp[j]<20:\n",
    "                zp[j]=np.mean(zp)\n",
    "        ZP.append(zp) #append CCD [Si] sample\n",
    "        ZP_delta.append(delta) #append deltas\n",
    "    #APPEND CALCULATED ZEROPOINTS TO THE CATALOG\n",
    "    for i in range(len(stand['ZEROPOINT'])): #for each row\n",
    "        ext = stand['EXT_NUMBER'][i]-1 #extension number\n",
    "        stand['ZEROPOINT'][i] = round(np.median(ZP[ext]),8) #append the median zeropoint\n",
    "    #ZEROPOINT ERROR COLUMNS\n",
    "    stand.add_column(1.0*u.mag,name='ZP_STD')\n",
    "    stand.add_column(1.0*u.mag,name='ZP_MAG_ERR')\n",
    "    stand.add_column(1.0*u.mag,name='ZP_TOTAL_ERR')\n",
    "    #ZEROPOINTS ERROR EMPTY LISTS PER CCD\n",
    "    ZP_MAG_ERR = [] #mag error (catalog error + sextractor error)\n",
    "    ZP_STD = [] #standard deviation of the ccd set (sigma of the zeropoints in a ccd)\n",
    "    ZP_TOTAL_ERR = [] #cuadratur sum of ZP_MAG_ERR and ZP_STD\n",
    "    #CALCULATE ZP_STD AND ZP_TOTAL_ERR AND APPEND TO THE EMPTY LISTS\n",
    "    for i in range(len(ZP)):\n",
    "        std = np.std(ZP[i]) #calculate std deviation of zeropoint sample per ccd\n",
    "        if (len(ZP[i])%2)!=0: #if list have impar elements\n",
    "            index = list(ZP[i]).index(np.median(ZP[i])) #calculate index of the delta of the median z´\n",
    "            mags_delta = ZP_delta[i][index] #extract delta of the median zp\n",
    "        if (len(ZP[i])%2)==0: #if list have par elements\n",
    "            index_1 = int((len(ZP[i])/2)-1) #extract central elements\n",
    "            index_2 = int(len(ZP[i])/2) #extract central elements\n",
    "            mags_delta = max(ZP_delta[i][index_1],ZP_delta[i][index_2]) #extract the max element\n",
    "        total_error = math.sqrt(std**2 + mags_delta**2) #quadrature sum\n",
    "        ZP_MAG_ERR.append(mags_delta) #append to list\n",
    "        ZP_STD.append(std) #append to list\n",
    "        ZP_TOTAL_ERR.append(total_error) #append to list\n",
    "    #APPEND CALCULATED ZEROPOINT ERRORS TO THE CATALOG\n",
    "    for i in range(len(stand['ZEROPOINT'])): #for each row\n",
    "        ext = stand['EXT_NUMBER'][i]-1 #extension number\n",
    "        stand['ZP_STD'][i] = round(np.median(ZP_STD[ext]),8) #append the ZP std\n",
    "        stand['ZP_MAG_ERR'][i] = round(np.median(ZP_MAG_ERR[ext]),8) #append the zp mag error\n",
    "        stand['ZP_TOTAL_ERR'][i] = round(np.median(ZP_TOTAL_ERR[ext]),8) #append the quad total error\n",
    "    #STATISTICS PER CCD\n",
    "    print('#                          ZEROPOINT STATISTICS '+ccd+decam_filter+'                        ')\n",
    "    print('#-----------------------------------------------------------------------------')\n",
    "    print('#CCD   ZP Mean  ZP Median  ZP Min  ZP Max  ZP Std   MAG Err  QUAD Sum  #STARS')\n",
    "    print('#-----------------------------------------------------------------------------')\n",
    "    for i in range(1,number_ccds+1):\n",
    "        mean = str(np.mean(ZP[i-1])) #mean zp\n",
    "        median = '  '+str(np.median(ZP[i-1])) #median zp\n",
    "        minimum = '    '+str(np.min(ZP[i-1])) #min zp\n",
    "        maximum = '   '+str(np.max(ZP[i-1])) #max zp\n",
    "        sigma = '  '+str(np.std(ZP[i-1])) #std zp\n",
    "        mag_err = '  '+str(ZP_MAG_ERR[i-1]) #mag_err zp\n",
    "        quad_err = '  '+str(ZP_TOTAL_ERR[i-1]) #quad sum\n",
    "        stars = '   '+str(len(ZP[i-1]))\n",
    "        if i<10:\n",
    "            print('['+ccd+str(i)+']   '+mean[:7]+median[:9]+minimum[:9]+maximum[:9]+sigma[:9]+mag_err[:9]+quad_err[:9]+stars)\n",
    "        elif ccd=='N' and i==30:\n",
    "            print('['+ccd+str(i+1)+']  '+mean[:7]+median[:9]+minimum[:9]+maximum[:9]+sigma[:9]+mag_err[:9]+quad_err[:9]+stars)\n",
    "        else:\n",
    "            print('['+ccd+str(i)+']  '+mean[:7]+median[:9]+minimum[:9]+maximum[:9]+sigma[:9]+mag_err[:9]+quad_err[:9]+stars)\n",
    "    #REMOVE COLUMN\n",
    "    stand.remove_column('EXT_NUMBER')\n",
    "    return stand"
   ]
  },
  {
   "cell_type": "markdown",
   "id": "448375d6",
   "metadata": {},
   "source": [
    "## Filter $Y$ [S1-S31] CCDs"
   ]
  },
  {
   "cell_type": "code",
   "execution_count": 11,
   "id": "8c661677",
   "metadata": {
    "scrolled": false
   },
   "outputs": [
    {
     "name": "stderr",
     "output_type": "stream",
     "text": [
      "WARNING: UnitsWarning: The unit 'ct' has been deprecated in the VOUnit standard. [astropy.units.format.utils]\n",
      "WARNING: UnitsWarning: The unit 'pix' has been deprecated in the VOUnit standard. [astropy.units.format.utils]\n",
      "WARNING: UnitsWarning: Unit 'degrees' not supported by the VOUnit standard.  [astropy.units.format.vounit]\n",
      "/home/alex-cfrd/anaconda3/lib/python3.8/site-packages/numpy/core/fromnumeric.py:758: UserWarning: Warning: 'partition' will ignore the 'mask' of the MaskedColumn.\n",
      "  a.partition(kth, axis=axis, kind=kind, order=order)\n"
     ]
    },
    {
     "name": "stdout",
     "output_type": "stream",
     "text": [
      "#                          ZEROPOINT STATISTICS SY                        \n",
      "#-----------------------------------------------------------------------------\n",
      "#CCD   ZP Mean  ZP Median  ZP Min  ZP Max  ZP Std   MAG Err  QUAD Sum  #STARS\n",
      "#-----------------------------------------------------------------------------\n",
      "[S1]   24.0732  24.0739    23.95   24.408  0.06683  0.00068  0.06683   35\n",
      "[S2]   24.1184  24.0574    23.88   25.707  0.27844  0.00286  0.27846   52\n",
      "[S3]   24.0536  24.0332    23.91   24.785  0.13396  0.00327  0.13400   46\n",
      "[S4]   24.0894  24.0735    23.92   24.536  0.11577  0.00276  0.11580   44\n",
      "[S5]   24.0754  24.0671    23.92   24.490  0.08300  0.00413  0.08310   44\n",
      "[S6]   24.0689  24.0759    23.86   24.477  0.08349  0.00383  0.08358   44\n",
      "[S7]   24.0993  24.0872    23.81   24.474  0.10515  0.00065  0.10515   47\n",
      "[S8]   24.0923  24.0912    23.84   24.490  0.08860  0.00283  0.08865   47\n",
      "[S9]   24.0600  24.0489    23.92   24.219  0.06019  0.00272  0.06026   41\n",
      "[S10]  24.1061  24.0855    24.00   24.507  0.09519  0.00117  0.09520   45\n",
      "[S11]  24.0874  24.0768    23.75   24.528  0.10448  0.00342  0.10453   46\n",
      "[S12]  24.0582  24.0603    23.97   24.255  0.04547  0.00108  0.04548   43\n",
      "[S13]  24.0819  24.0728    23.90   24.458  0.09511  0.00325  0.09517   48\n",
      "[S14]  24.1248  24.1046    23.78   24.650  0.12367  0.00189  0.12369   53\n",
      "[S15]  24.0808  24.0408    23.88   24.584  0.12686  0.00418  0.12693   34\n",
      "[S16]  24.1029  24.0772    23.93   24.718  0.15640  0.00183  0.15641   48\n",
      "[S17]  24.1034  24.0860    23.93   24.621  0.13484  0.00124  0.13484   42\n",
      "[S18]  24.0426  24.0195    23.85   24.549  0.10203  0.00218  0.10205   46\n",
      "[S19]  24.1354  24.1056    23.91   24.662  0.11381  0.00410  0.11389   54\n",
      "[S20]  24.0710  24.0564    23.97   24.301  0.07580  0.00081  0.07581   28\n",
      "[S21]  24.0676  24.0821    23.90   24.302  0.06490  0.00346  0.06499   48\n",
      "[S22]  24.1208  24.1064    24.02   24.466  0.08526  0.00185  0.08528   52\n",
      "[S23]  24.0837  24.0757    23.97   24.401  0.06890  0.00400  0.06901   48\n",
      "[S24]  24.1021  24.0885    23.99   24.447  0.08046  0.00220  0.08049   43\n",
      "[S25]  24.1073  24.1057    23.97   24.292  0.07297  0.00144  0.07298   49\n",
      "[S26]  24.1003  24.0777    23.95   24.546  0.10271  0.00334  0.10276   42\n",
      "[S27]  24.0984  24.0736    23.98   24.798  0.12574  0.00482  0.12583   50\n",
      "[S28]  24.1336  24.1071    23.87   24.496  0.11856  0.00334  0.11861   43\n",
      "[S29]  24.1156  24.0841    23.92   24.719  0.13685  0.00409  0.13691   54\n",
      "[S30]  24.1339  24.1204    23.91   24.445  0.08733  0.00106  0.08733   49\n",
      "[S31]  24.1302  24.0975    23.99   24.472  0.09706  0.00293  0.09711   51\n"
     ]
    }
   ],
   "source": [
    "ZP_SY = zeropoint('Y','S',0.1228,1.405,1) #photometry were made in counts per second image"
   ]
  },
  {
   "cell_type": "markdown",
   "id": "dfed18aa",
   "metadata": {},
   "source": [
    "## Filter $Y$ [N1-N31] CCDs (no [N31])"
   ]
  },
  {
   "cell_type": "code",
   "execution_count": 12,
   "id": "af9725af",
   "metadata": {},
   "outputs": [
    {
     "name": "stderr",
     "output_type": "stream",
     "text": [
      "WARNING: UnitsWarning: The unit 'ct' has been deprecated in the VOUnit standard. [astropy.units.format.utils]\n",
      "WARNING: UnitsWarning: The unit 'pix' has been deprecated in the VOUnit standard. [astropy.units.format.utils]\n",
      "WARNING: UnitsWarning: Unit 'degrees' not supported by the VOUnit standard.  [astropy.units.format.vounit]\n",
      "/home/alex-cfrd/anaconda3/lib/python3.8/site-packages/numpy/core/fromnumeric.py:758: UserWarning: Warning: 'partition' will ignore the 'mask' of the MaskedColumn.\n",
      "  a.partition(kth, axis=axis, kind=kind, order=order)\n"
     ]
    },
    {
     "name": "stdout",
     "output_type": "stream",
     "text": [
      "#                          ZEROPOINT STATISTICS NY                        \n",
      "#-----------------------------------------------------------------------------\n",
      "#CCD   ZP Mean  ZP Median  ZP Min  ZP Max  ZP Std   MAG Err  QUAD Sum  #STARS\n",
      "#-----------------------------------------------------------------------------\n",
      "[N1]   24.1003  24.0957    24.01   24.336  0.05590  0.00296  0.05598   42\n",
      "[N2]   24.1326  24.0927    23.98   24.875  0.15459  0.00520  0.15467   48\n",
      "[N3]   24.1038  24.0628    23.95   24.541  0.13519  0.00154  0.13520   48\n",
      "[N4]   24.1807  24.0658    23.91   26.049  0.35600  0.00243  0.35601   47\n",
      "[N5]   24.1008  24.0703    23.97   24.489  0.10988  0.00279  0.10991   44\n",
      "[N6]   24.1292  24.0844    23.80   24.718  0.19066  0.00131  0.19067   39\n",
      "[N7]   24.1517  24.1302    24.03   24.423  0.08654  0.00342  0.08661   50\n",
      "[N8]   24.1392  24.1116    23.99   24.949  0.14825  0.00170  0.14826   39\n",
      "[N9]   24.0960  24.0704    23.91   25.197  0.18223  0.00292  0.18226   48\n",
      "[N10]  24.0880  24.0499    23.93   24.702  0.14706  0.00192  0.14707   47\n",
      "[N11]  24.0614  24.0396    23.94   24.586  0.10232  0.00270  0.10235   55\n",
      "[N12]  24.0821  24.0708    23.99   24.620  0.08596  0.00153  0.08598   49\n",
      "[N13]  24.1108  24.1086    23.95   24.250  0.03870  0.00253  0.03879   57\n",
      "[N14]  24.1070  24.0836    23.97   24.906  0.13405  0.00358  0.13410   50\n",
      "[N15]  24.0833  24.0765    23.91   24.501  0.09722  0.00135  0.09723   52\n",
      "[N16]  24.1109  24.0522    23.94   24.803  0.19178  0.00161  0.19179   43\n",
      "[N17]  24.1281  24.0884    23.97   24.812  0.14992  0.00122  0.14993   58\n",
      "[N18]  24.0589  24.0503    23.93   24.531  0.07640  0.00383  0.07650   52\n",
      "[N19]  24.1387  24.1011    23.96   24.701  0.12419  0.00260  0.12422   51\n",
      "[N20]  24.1118  24.0936    23.88   24.639  0.11474  0.00104  0.11474   64\n",
      "[N21]  24.0912  24.0634    23.87   24.850  0.15496  0.00115  0.15497   47\n",
      "[N22]  24.1123  24.0721    23.85   24.993  0.18577  0.00138  0.18577   69\n",
      "[N23]  24.0991  24.0721    23.93   24.587  0.12851  0.00207  0.12853   40\n",
      "[N24]  24.1369  24.0986    23.97   24.739  0.14785  0.00197  0.14786   45\n",
      "[N25]  24.1169  24.0762    23.97   24.801  0.15868  0.00206  0.15869   47\n",
      "[N26]  24.1142  24.0782    23.98   24.794  0.15373  0.00408  0.15379   32\n",
      "[N27]  24.1312  24.0740    23.96   24.816  0.18144  0.00402  0.18149   46\n",
      "[N28]  24.1749  24.0967    23.97   24.625  0.18253  0.00147  0.18253   43\n",
      "[N29]  24.1738  24.1040    24.05   24.749  0.16341  0.00359  0.16345   38\n",
      "[N31]  24.0948  24.0576    23.89   24.682  0.14252  0.00180  0.14253   29\n"
     ]
    }
   ],
   "source": [
    "ZP_NY =zeropoint('Y','N',0.1228,1.405,1) #photometry were made in counts per second image"
   ]
  },
  {
   "cell_type": "markdown",
   "id": "dde8ab22",
   "metadata": {},
   "source": [
    "## General Values Filter $Y$"
   ]
  },
  {
   "cell_type": "markdown",
   "id": "611821d4",
   "metadata": {},
   "source": [
    "\\begin{align*}\n",
    "    ZP_{\\text{ median}}&=24.07685\\pm 0.10457\\\\\n",
    "    ZP_{\\text{ mean}}&=24.0788401639\\\\\n",
    "    ZP_{\\text{ min}}&=24.0188\\\\\n",
    "    ZP_{\\text{ max}}&=24.13029\\\\\n",
    "    ZP_{\\text{ std}}&=0.021615574\\\\\n",
    "\\end{align*}\n",
    "\n",
    "Due to the error propagation, and addopting the median as the definitive value:\n",
    "\n",
    "\\begin{align*}\n",
    "    ZP &= 24.07685\\pm\\sqrt{0.10457^2+ZP_{\\text{ std}}^2}\\\\\n",
    "    &= 24.07685\\pm\\sqrt{0.10457^2+0.021615574^2}\\\\\n",
    "    ZP &= 24.07685\\pm 0.1067807\n",
    "\\end{align*}"
   ]
  },
  {
   "cell_type": "markdown",
   "id": "a4e1a4bc",
   "metadata": {},
   "source": [
    "## Filter $u$ [S1-S31] CCDs"
   ]
  },
  {
   "cell_type": "code",
   "execution_count": 13,
   "id": "be1ea2cb",
   "metadata": {},
   "outputs": [
    {
     "name": "stderr",
     "output_type": "stream",
     "text": [
      "WARNING: UnitsWarning: The unit 'ct' has been deprecated in the VOUnit standard. [astropy.units.format.utils]\n",
      "WARNING: UnitsWarning: The unit 'pix' has been deprecated in the VOUnit standard. [astropy.units.format.utils]\n",
      "/home/alex-cfrd/anaconda3/lib/python3.8/site-packages/numpy/core/fromnumeric.py:758: UserWarning: Warning: 'partition' will ignore the 'mask' of the MaskedColumn.\n",
      "  a.partition(kth, axis=axis, kind=kind, order=order)\n"
     ]
    },
    {
     "name": "stdout",
     "output_type": "stream",
     "text": [
      "#                          ZEROPOINT STATISTICS Su                        \n",
      "#-----------------------------------------------------------------------------\n",
      "#CCD   ZP Mean  ZP Median  ZP Min  ZP Max  ZP Std   MAG Err  QUAD Sum  #STARS\n",
      "#-----------------------------------------------------------------------------\n",
      "[S1]   23.5060  23.5043    23.33   23.722  0.08541  0.03811  0.09353   23\n",
      "[S2]   23.5530  23.5128    23.43   24.362  0.20126  0.00805  0.20142   19\n",
      "[S3]   23.4756  23.4836    23.23   23.638  0.08473  0.01603  0.08624   28\n",
      "[S4]   23.5143  23.5020    23.31   23.907  0.12583  0.01113  0.12632   23\n",
      "[S5]   23.5206  23.5276    23.13   23.669  0.12771  0.05803  0.14027   13\n",
      "[S6]   23.4494  23.4932    22.87   23.837  0.17347  0.03500  0.17697   31\n",
      "[S7]   23.4847  23.4926    23.00   23.667  0.13395  0.03403  0.13821   26\n",
      "[S8]   23.4401  23.4592    23.21   23.552  0.08714  0.04001  0.09589   22\n",
      "[S9]   23.5296  23.5245    22.92   23.958  0.19515  0.07302  0.20837   20\n",
      "[S10]  23.4533  23.4803    23.02   23.628  0.12839  0.04705  0.13674   25\n",
      "[S11]  23.5198  23.5158    23.21   23.990  0.16137  0.01214  0.16183   27\n",
      "[S12]  23.4291  23.4615    23.00   23.631  0.15081  0.01402  0.15146   23\n",
      "[S13]  23.4259  23.4162    23.09   23.584  0.11944  0.08601  0.14719   27\n",
      "[S14]  23.5127  23.5149    23.29   23.727  0.09787  0.02208  0.10033   28\n",
      "[S15]  23.5264  23.5452    23.36   23.770  0.09503  0.05604  0.11033   14\n",
      "[S16]  23.5125  23.5497    23.02   23.658  0.13590  0.04206  0.14226   27\n",
      "[S17]  23.4543  23.4838    23.18   23.631  0.11265  0.00701  0.11287   25\n",
      "[S18]  23.3697  23.4032    23.00   23.464  0.10713  0.00700  0.10735   15\n",
      "[S19]  23.4384  23.4642    23.14   23.647  0.09554  0.03100  0.10044   31\n",
      "[S20]  23.4874  23.5345    22.84   23.644  0.18003  0.04305  0.18510   17\n",
      "[S21]  23.4121  23.4544    22.91   23.612  0.14505  0.05504  0.15514   22\n",
      "[S22]  23.5588  23.5359    22.77   24.893  0.31104  0.01102  0.31123   27\n",
      "[S23]  23.5871  23.5629    23.43   23.737  0.07743  0.02300  0.08077   18\n",
      "[S24]  23.4325  23.4665    23.13   23.598  0.13810  0.05605  0.14904   20\n",
      "[S25]  23.5066  23.5453    23.03   23.674  0.13825  0.02702  0.14087   24\n",
      "[S26]  23.5398  23.5233    23.27   24.151  0.15190  0.00800  0.15211   26\n",
      "[S27]  23.5275  23.5234    23.37   23.669  0.07904  0.01304  0.08011   19\n",
      "[S28]  23.5453  23.5549    23.31   23.805  0.10105  0.06801  0.12180   17\n",
      "[S29]  23.5440  23.5616    23.22   23.759  0.11636  0.02402  0.11881   33\n",
      "[S30]  23.4958  23.4809    23.30   23.783  0.10425  0.04402  0.11316   25\n",
      "[S31]  23.5152  23.5354    23.19   23.749  0.11464  0.01103  0.11517   32\n"
     ]
    }
   ],
   "source": [
    "ZP_Su =zeropoint('u','S',0.3913,1.061,1) #photometry were made in counts per second image"
   ]
  },
  {
   "cell_type": "markdown",
   "id": "5de80e35",
   "metadata": {},
   "source": [
    "## Filter $u$ [N1-N31] CCDs (no [N31])"
   ]
  },
  {
   "cell_type": "code",
   "execution_count": 14,
   "id": "11c7c100",
   "metadata": {},
   "outputs": [
    {
     "name": "stderr",
     "output_type": "stream",
     "text": [
      "WARNING: UnitsWarning: The unit 'ct' has been deprecated in the VOUnit standard. [astropy.units.format.utils]\n",
      "WARNING: UnitsWarning: The unit 'pix' has been deprecated in the VOUnit standard. [astropy.units.format.utils]\n",
      "/home/alex-cfrd/anaconda3/lib/python3.8/site-packages/numpy/core/fromnumeric.py:758: UserWarning: Warning: 'partition' will ignore the 'mask' of the MaskedColumn.\n",
      "  a.partition(kth, axis=axis, kind=kind, order=order)\n"
     ]
    },
    {
     "name": "stdout",
     "output_type": "stream",
     "text": [
      "#                          ZEROPOINT STATISTICS Nu                        \n",
      "#-----------------------------------------------------------------------------\n",
      "#CCD   ZP Mean  ZP Median  ZP Min  ZP Max  ZP Std   MAG Err  QUAD Sum  #STARS\n",
      "#-----------------------------------------------------------------------------\n",
      "[N1]   23.4005  23.4210    22.98   23.739  0.15385  0.02601  0.15604   24\n",
      "[N2]   23.4050  23.4357    23.02   23.586  0.12644  0.03204  0.13043   27\n",
      "[N3]   23.3838  23.4296    22.80   23.597  0.16673  0.09602  0.19240   28\n",
      "[N4]   23.4534  23.4688    23.23   23.555  0.08599  0.01607  0.08748   17\n",
      "[N5]   23.4013  23.4564    22.75   23.644  0.17558  0.03401  0.17884   28\n",
      "[N6]   23.3841  23.4349    22.98   23.582  0.14615  0.07501  0.16428   28\n",
      "[N7]   23.3742  23.4408    22.63   23.541  0.21857  0.01808  0.21931   28\n",
      "[N8]   23.4476  23.4684    23.06   23.751  0.12093  0.04403  0.12870   28\n",
      "[N9]   23.4851  23.4922    23.15   23.691  0.12918  0.09702  0.16156   24\n",
      "[N10]  23.4387  23.4679    23.24   23.581  0.09555  0.06801  0.11729   20\n",
      "[N11]  23.4237  23.4683    23.08   23.619  0.13304  0.01101  0.13349   24\n",
      "[N12]  23.4129  23.4369    23.05   23.536  0.10860  0.01617  0.10980   18\n",
      "[N13]  23.3493  23.3630    22.98   23.541  0.12481  0.02908  0.12815   30\n",
      "[N14]  23.5166  23.5159    23.31   23.706  0.08955  0.00707  0.08983   27\n",
      "[N15]  23.3977  23.4777    22.63   23.674  0.22043  0.00400  0.22046   25\n",
      "[N16]  23.3961  23.4221    22.86   23.579  0.16109  0.07101  0.17605   19\n",
      "[N17]  23.4234  23.4581    23.00   23.800  0.15457  0.01108  0.15497   41\n",
      "[N18]  23.4440  23.4467    23.06   23.677  0.10678  0.03903  0.11369   25\n",
      "[N19]  23.4573  23.4604    23.13   23.765  0.11808  0.02601  0.12091   23\n",
      "[N20]  23.3585  23.3871    22.87   23.551  0.13237  0.00401  0.13243   40\n",
      "[N21]  23.3966  23.4212    22.85   23.743  0.16924  0.00305  0.16926   29\n",
      "[N22]  23.4137  23.4326    22.77   23.868  0.16334  0.11101  0.19749   38\n",
      "[N23]  23.3916  23.4154    23.06   23.572  0.12528  0.03803  0.13093   15\n",
      "[N24]  23.4476  23.4520    23.17   23.580  0.09686  0.05703  0.11241   29\n",
      "[N25]  23.3951  23.4249    22.79   23.597  0.14963  0.02606  0.15189   28\n",
      "[N26]  23.5182  23.4406    23.30   25.065  0.38161  0.08900  0.39185   18\n",
      "[N27]  23.4485  23.4713    22.99   23.651  0.12488  0.01200  0.12546   29\n",
      "[N28]  23.3557  23.3689    23.09   23.568  0.11947  0.01303  0.12017   25\n",
      "[N29]  23.4858  23.5047    23.09   23.867  0.14078  0.00608  0.14091   33\n",
      "[N31]  23.3894  23.4050    23.04   23.681  0.15045  0.09502  0.17795   16\n"
     ]
    }
   ],
   "source": [
    "ZP_Nu =zeropoint('u','N',0.3913,1.061,1) #photometry were made in counts per second image"
   ]
  },
  {
   "cell_type": "markdown",
   "id": "ea9cf24a",
   "metadata": {},
   "source": [
    "## General Values Filter $u$"
   ]
  },
  {
   "cell_type": "markdown",
   "id": "2abe3cc2",
   "metadata": {},
   "source": [
    "\\begin{align*}\n",
    "    ZP_{\\text{ median}}&=23.46297\\pm 0.13655\\\\\n",
    "    ZP_{\\text{ mean}}&=23.46886836\\\\\n",
    "    ZP_{\\text{ min}}&=23.35337\\\\\n",
    "    ZP_{\\text{ max}}&=23.56122\\\\\n",
    "    ZP_{\\text{ std}}&=0.0484469779\\\\\n",
    "\\end{align*}\n",
    "\n",
    "Due to the error propagation, and addopting the median as the definitive value:\n",
    "\n",
    "\\begin{align*}\n",
    "    ZP &= 23.46297\\pm\\sqrt{0.13655^2+ZP_{\\text{ std}}^2}\\\\\n",
    "    &= 23.46297\\pm\\sqrt{0.13655^2+0.0484469779^2}\\\\\n",
    "    ZP &= 23.46297\\pm 0.144889655\n",
    "\\end{align*}"
   ]
  },
  {
   "cell_type": "markdown",
   "id": "c6a3b794",
   "metadata": {},
   "source": [
    "## Filter $g$ [S1-S31] CCDs"
   ]
  },
  {
   "cell_type": "code",
   "execution_count": 10,
   "id": "aeec54f2",
   "metadata": {},
   "outputs": [
    {
     "name": "stderr",
     "output_type": "stream",
     "text": [
      "WARNING: UnitsWarning: The unit 'ct' has been deprecated in the VOUnit standard. [astropy.units.format.utils]\n",
      "WARNING: UnitsWarning: The unit 'pix' has been deprecated in the VOUnit standard. [astropy.units.format.utils]\n",
      "WARNING: UnitsWarning: Unit 'degrees' not supported by the VOUnit standard.  [astropy.units.format.vounit]\n",
      "/home/alex-cfrd/anaconda3/lib/python3.8/site-packages/numpy/core/fromnumeric.py:758: UserWarning: Warning: 'partition' will ignore the 'mask' of the MaskedColumn.\n",
      "  a.partition(kth, axis=axis, kind=kind, order=order)\n"
     ]
    },
    {
     "name": "stdout",
     "output_type": "stream",
     "text": [
      "#                          ZEROPOINT STATISTICS Sg                        \n",
      "#-----------------------------------------------------------------------------\n",
      "#CCD   ZP Mean  ZP Median  ZP Min  ZP Max  ZP Std   MAG Err  QUAD Sum  #STARS\n",
      "#-----------------------------------------------------------------------------\n",
      "[S1]   25.6088  25.4573    25.39   26.482  0.33125  0.00057  0.33125   23\n",
      "[S2]   25.5298  25.4208    25.30   26.538  0.26729  0.00080  0.26729   25\n",
      "[S3]   25.5777  25.3737    25.21   26.813  0.43352  0.00035  0.43352   32\n",
      "[S4]   25.4619  25.3837    25.06   26.520  0.27368  0.00085  0.27368   26\n",
      "[S5]   25.4129  25.3556    25.28   26.427  0.23934  0.00095  0.23934   20\n",
      "[S6]   25.4733  25.4033    25.06   26.441  0.28642  0.00104  0.28643   25\n",
      "[S7]   25.7645  25.7826    25.34   26.699  0.24212  0.00107  0.24213   31\n",
      "[S8]   25.5331  25.4333    25.33   26.250  0.24496  0.00092  0.24496   31\n",
      "[S9]   25.4091  25.3995    24.99   25.804  0.13827  0.00070  0.13827   20\n",
      "[S10]  25.4332  25.3666    25.31   26.328  0.20489  0.00034  0.20489   31\n",
      "[S11]  25.4914  25.3675    25.27   26.324  0.32383  0.00069  0.32383   26\n",
      "[S12]  25.4052  25.3754    25.23   25.960  0.12494  0.00045  0.12495   30\n",
      "[S13]  25.5882  25.4192    25.34   26.448  0.33806  0.00096  0.33806   31\n",
      "[S14]  25.6673  25.4398    25.39   26.779  0.40268  0.00111  0.40269   28\n",
      "[S15]  25.6971  25.4274    25.39   26.568  0.42426  0.00060  0.42426   17\n",
      "[S16]  25.4614  25.3940    24.78   26.376  0.26257  0.00117  0.26257   29\n",
      "[S17]  25.4062  25.3735    25.34   26.118  0.15008  0.00060  0.15008   24\n",
      "[S18]  25.4344  25.3937    25.33   25.971  0.12540  0.00109  0.12541   24\n",
      "[S19]  25.5924  25.4322    25.36   26.662  0.33004  0.00082  0.33005   27\n",
      "[S20]  25.5720  25.4279    25.41   26.489  0.31751  0.00049  0.31751   19\n",
      "[S21]  25.4913  25.4169    25.33   26.097  0.20040  0.00056  0.20040   31\n",
      "[S22]  25.5917  25.4036    25.30   26.534  0.34947  0.00035  0.34947   30\n",
      "[S23]  25.4099  25.3975    25.36   25.593  0.04972  0.00082  0.04972   22\n",
      "[S24]  25.5122  25.4261    25.37   26.282  0.23016  0.00068  0.23016   21\n",
      "[S25]  25.4891  25.4328    25.35   26.129  0.18070  0.00046  0.18070   25\n",
      "[S26]  25.3341  25.4162    23.12   25.638  0.48565  0.00097  0.48565   22\n",
      "[S27]  25.4255  25.4169    25.37   25.720  0.06378  0.00098  0.06379   24\n",
      "[S28]  25.4766  25.4251    25.09   26.608  0.26314  0.00047  0.26314   22\n",
      "[S29]  25.5247  25.4477    25.38   26.402  0.22019  0.00098  0.22019   38\n",
      "[S30]  25.4430  25.4274    25.37   25.833  0.09521  0.00060  0.09521   30\n",
      "[S31]  25.6392  25.4505    25.42   26.547  0.33343  0.00073  0.33343   32\n"
     ]
    }
   ],
   "source": [
    "ZP_Sg = zeropoint('g','S',0.20,1.01,300)"
   ]
  },
  {
   "cell_type": "markdown",
   "id": "b031daf1",
   "metadata": {},
   "source": [
    "## Filter $g$ [N1-N31] CCDs (no [N31])"
   ]
  },
  {
   "cell_type": "code",
   "execution_count": 56,
   "id": "3a5673ad",
   "metadata": {},
   "outputs": [
    {
     "name": "stderr",
     "output_type": "stream",
     "text": [
      "WARNING: UnitsWarning: The unit 'ct' has been deprecated in the VOUnit standard. [astropy.units.format.utils]\n",
      "WARNING: UnitsWarning: The unit 'pix' has been deprecated in the VOUnit standard. [astropy.units.format.utils]\n",
      "WARNING: UnitsWarning: Unit 'degrees' not supported by the VOUnit standard.  [astropy.units.format.vounit]\n",
      "/home/alex-cfrd/anaconda3/lib/python3.8/site-packages/numpy/core/fromnumeric.py:758: UserWarning: Warning: 'partition' will ignore the 'mask' of the MaskedColumn.\n",
      "  a.partition(kth, axis=axis, kind=kind, order=order)\n"
     ]
    },
    {
     "name": "stdout",
     "output_type": "stream",
     "text": [
      "#                          ZEROPOINT STATISTICS Ng                        \n",
      "#-----------------------------------------------------------------------------\n",
      "#CCD   ZP Mean  ZP Median  ZP Min  ZP Max  ZP Std   MAG Err  QUAD Sum  #STARS\n",
      "#-----------------------------------------------------------------------------\n",
      "[N1]   25.5053  25.4408    25.37   26.284  0.22154  0.00070  0.22154   26\n",
      "[N2]   25.4543  25.4143    24.32   26.194  0.27348  0.00092  0.27348   34\n",
      "[N3]   25.4638  25.3780    25.30   26.500  0.23698  0.00108  0.23698   29\n",
      "[N4]   25.4073  25.3900    25.28   25.686  0.08558  0.00039  0.08558   23\n",
      "[N5]   25.4762  25.3926    25.32   26.433  0.22478  0.00070  0.22478   27\n",
      "[N6]   25.5718  25.4042    25.30   26.760  0.38843  0.00108  0.38843   27\n",
      "[N7]   25.4399  25.4380    24.44   26.175  0.25477  0.00073  0.25477   25\n",
      "[N8]   25.5139  25.4272    25.38   26.858  0.29555  0.00108  0.29555   24\n",
      "[N9]   25.5481  25.4059    25.34   26.402  0.32593  0.00109  0.32593   25\n",
      "[N10]  25.5017  25.3829    25.13   26.661  0.33615  0.00108  0.33615   25\n",
      "[N11]  25.4978  25.3798    25.28   26.441  0.29015  0.00097  0.29015   28\n",
      "[N12]  25.4399  25.3952    25.34   26.420  0.19269  0.00085  0.19269   28\n",
      "[N13]  25.5096  25.4264    25.36   26.535  0.26485  0.00112  0.26485   36\n",
      "[N14]  25.5023  25.4394    25.41   26.538  0.22193  0.00058  0.22193   27\n",
      "[N15]  25.4927  25.4202    25.33   26.249  0.23468  0.00045  0.23468   27\n",
      "[N16]  25.5069  25.3945    25.33   26.420  0.27129  0.00045  0.27129   25\n",
      "[N17]  25.4544  25.3855    25.18   26.182  0.21142  0.00117  0.21142   45\n",
      "[N18]  25.4631  25.4124    25.20   26.372  0.20966  0.00083  0.20966   32\n",
      "[N19]  25.4936  25.4346    25.37   26.006  0.14497  0.00048  0.14497   21\n",
      "[N20]  25.5213  25.4427    25.37   26.412  0.23736  0.00044  0.23736   39\n",
      "[N21]  25.5034  25.4304    25.37   26.247  0.21551  0.00058  0.21551   24\n",
      "[N22]  25.4265  25.4100    25.20   25.925  0.11765  0.00056  0.11765   35\n",
      "[N23]  25.5226  25.4105    25.36   26.449  0.28055  0.00086  0.28055   20\n",
      "[N24]  25.5220  25.4499    25.38   26.035  0.16218  0.00110  0.16219   31\n",
      "[N25]  25.5799  25.4435    25.41   26.639  0.31194  0.00057  0.31194   21\n",
      "[N26]  25.4687  25.4438    25.40   25.624  0.06979  0.00079  0.06979   18\n",
      "[N27]  25.5444  25.4333    25.08   26.252  0.27876  0.00094  0.27876   25\n",
      "[N28]  25.6392  25.4407    25.38   26.532  0.36801  0.00094  0.36801   23\n",
      "[N29]  25.5247  25.4477    25.33   26.492  0.22588  0.00046  0.22588   34\n",
      "[N31]  25.4278  25.4434    24.69   25.913  0.17822  0.00114  0.17822   25\n"
     ]
    }
   ],
   "source": [
    "ZP_Ng = zeropoint('g','N',0.20,1.01,300)"
   ]
  },
  {
   "cell_type": "markdown",
   "id": "5d0836b8",
   "metadata": {},
   "source": [
    "## Filter $r$ [S1-S31] CCDs"
   ]
  },
  {
   "cell_type": "code",
   "execution_count": 57,
   "id": "0bd8fb75",
   "metadata": {},
   "outputs": [
    {
     "name": "stderr",
     "output_type": "stream",
     "text": [
      "WARNING: UnitsWarning: The unit 'ct' has been deprecated in the VOUnit standard. [astropy.units.format.utils]\n",
      "WARNING: UnitsWarning: The unit 'pix' has been deprecated in the VOUnit standard. [astropy.units.format.utils]\n",
      "WARNING: UnitsWarning: Unit 'degrees' not supported by the VOUnit standard.  [astropy.units.format.vounit]\n",
      "/home/alex-cfrd/anaconda3/lib/python3.8/site-packages/numpy/core/fromnumeric.py:758: UserWarning: Warning: 'partition' will ignore the 'mask' of the MaskedColumn.\n",
      "  a.partition(kth, axis=axis, kind=kind, order=order)\n"
     ]
    },
    {
     "name": "stdout",
     "output_type": "stream",
     "text": [
      "#                          ZEROPOINT STATISTICS Sr                        \n",
      "#-----------------------------------------------------------------------------\n",
      "#CCD   ZP Mean  ZP Median  ZP Min  ZP Max  ZP Std   MAG Err  QUAD Sum  #STARS\n",
      "#-----------------------------------------------------------------------------\n",
      "[S1]   25.4073  25.4058    24.93   26.264  0.22939  0.00113  0.22939   36\n",
      "[S2]   25.4151  25.3735    25.05   25.972  0.20254  0.00169  0.20255   40\n",
      "[S3]   25.4454  25.4037    25.02   26.436  0.27623  0.00048  0.27623   43\n",
      "[S4]   25.3966  25.3765    25.07   25.903  0.16089  0.00058  0.16089   45\n",
      "[S5]   25.4601  25.4125    24.92   26.146  0.22520  0.00057  0.22520   44\n",
      "[S6]   25.4525  25.4056    25.05   25.961  0.16186  0.00121  0.16186   36\n",
      "[S7]   25.4712  25.4400    25.00   26.488  0.24603  0.00075  0.24603   50\n",
      "[S8]   25.4752  25.3731    25.06   26.975  0.37041  0.00114  0.37041   46\n",
      "[S9]   25.4126  25.3496    25.10   26.258  0.22339  0.00076  0.22339   33\n",
      "[S10]  25.4135  25.3731    24.94   25.986  0.19105  0.00047  0.19105   39\n",
      "[S11]  25.3615  25.3416    24.89   25.814  0.19824  0.00058  0.19824   42\n",
      "[S12]  25.5383  25.4279    25.08   26.743  0.31958  0.00059  0.31958   47\n",
      "[S13]  25.4154  25.4096    24.93   26.115  0.23814  0.00099  0.23814   41\n",
      "[S14]  25.4280  25.4213    25.15   25.785  0.13986  0.00116  0.13986   43\n",
      "[S15]  25.4036  25.3675    25.07   26.440  0.23404  0.00129  0.23404   30\n",
      "[S16]  25.5204  25.4671    25.26   26.148  0.18080  0.00126  0.18080   44\n",
      "[S17]  25.4589  25.3865    25.04   26.195  0.27656  0.00103  0.27657   35\n",
      "[S18]  25.3746  25.3733    25.10   26.151  0.16143  0.00081  0.16144   41\n",
      "[S19]  25.4543  25.3908    25.25   26.339  0.19761  0.00100  0.19761   47\n",
      "[S20]  25.5076  25.4051    24.95   26.568  0.39386  0.00075  0.39387   25\n",
      "[S21]  25.4301  25.4114    24.96   26.420  0.23808  0.00095  0.23808   44\n",
      "[S22]  25.5090  25.4622    25.10   26.428  0.26617  0.00057  0.26617   49\n",
      "[S23]  25.4358  25.3666    25.01   26.277  0.23000  0.00115  0.23000   49\n",
      "[S24]  25.4271  25.3936    24.96   26.046  0.18899  0.00095  0.18899   41\n",
      "[S25]  25.4947  25.4433    25.00   26.382  0.25950  0.00076  0.25950   48\n",
      "[S26]  25.5014  25.4491    25.17   26.205  0.21696  0.00073  0.21696   39\n",
      "[S27]  25.5261  25.4220    25.23   26.421  0.26868  0.00062  0.26868   38\n",
      "[S28]  25.4266  25.4052    24.87   25.840  0.17754  0.00223  0.17755   42\n",
      "[S29]  25.4965  25.4620    25.18   26.315  0.18220  0.00070  0.18220   51\n",
      "[S30]  25.4527  25.4047    25.12   26.204  0.18933  0.00071  0.18933   47\n",
      "[S31]  25.5054  25.4086    25.19   26.458  0.28366  0.00039  0.28366   38\n"
     ]
    }
   ],
   "source": [
    "ZP_Sr = zeropoint('r','S',0.10,1.065,300)"
   ]
  },
  {
   "cell_type": "markdown",
   "id": "d827dba7",
   "metadata": {},
   "source": [
    "## Filter $r$ [N1-N31] CCDs (no [N31])"
   ]
  },
  {
   "cell_type": "code",
   "execution_count": 58,
   "id": "b98e826c",
   "metadata": {
    "scrolled": false
   },
   "outputs": [
    {
     "name": "stderr",
     "output_type": "stream",
     "text": [
      "WARNING: UnitsWarning: The unit 'ct' has been deprecated in the VOUnit standard. [astropy.units.format.utils]\n",
      "WARNING: UnitsWarning: The unit 'pix' has been deprecated in the VOUnit standard. [astropy.units.format.utils]\n",
      "WARNING: UnitsWarning: Unit 'degrees' not supported by the VOUnit standard.  [astropy.units.format.vounit]\n",
      "/home/alex-cfrd/anaconda3/lib/python3.8/site-packages/numpy/core/fromnumeric.py:758: UserWarning: Warning: 'partition' will ignore the 'mask' of the MaskedColumn.\n",
      "  a.partition(kth, axis=axis, kind=kind, order=order)\n"
     ]
    },
    {
     "name": "stdout",
     "output_type": "stream",
     "text": [
      "#                          ZEROPOINT STATISTICS Nr                        \n",
      "#-----------------------------------------------------------------------------\n",
      "#CCD   ZP Mean  ZP Median  ZP Min  ZP Max  ZP Std   MAG Err  QUAD Sum  #STARS\n",
      "#-----------------------------------------------------------------------------\n",
      "[N1]   25.4403  25.3708    25.15   26.155  0.21893  0.00056  0.21893   39\n",
      "[N2]   25.3890  25.3581    25.00   26.315  0.21908  0.00098  0.21908   33\n",
      "[N3]   25.3703  25.2989    25.11   26.485  0.22397  0.00051  0.22397   53\n",
      "[N4]   25.5292  25.3985    25.13   26.391  0.32707  0.00064  0.32707   37\n",
      "[N5]   25.4806  25.3826    24.94   26.681  0.33785  0.00059  0.33785   41\n",
      "[N6]   25.4970  25.4443    25.03   26.359  0.27871  0.00073  0.27871   31\n",
      "[N7]   25.4812  25.4800    25.15   26.275  0.22026  0.00050  0.22027   39\n",
      "[N8]   25.4948  25.4431    24.99   26.444  0.34028  0.00086  0.34029   29\n",
      "[N9]   25.3931  25.3559    25.10   26.041  0.18330  0.00084  0.18331   39\n",
      "[N10]  25.3942  25.3783    25.14   26.362  0.19945  0.00048  0.19945   42\n",
      "[N11]  25.4194  25.4349    25.02   26.254  0.20488  0.00061  0.20488   45\n",
      "[N12]  25.4702  25.4101    25.06   26.266  0.22916  0.00126  0.22916   48\n",
      "[N13]  25.4206  25.3899    25.08   26.268  0.20650  0.00102  0.20651   48\n",
      "[N14]  25.3822  25.4286    23.05   26.190  0.41754  0.00085  0.41755   46\n",
      "[N15]  25.4369  25.3925    24.96   26.061  0.22907  0.00086  0.22907   45\n",
      "[N16]  25.4332  25.3004    25.14   26.180  0.26914  0.00069  0.26914   36\n",
      "[N17]  25.4288  25.3672    25.11   26.235  0.22027  0.00048  0.22027   43\n",
      "[N18]  25.3559  25.3668    24.80   25.955  0.21793  0.00099  0.21793   49\n",
      "[N19]  25.4678  25.4067    25.08   26.915  0.32785  0.00151  0.32785   42\n",
      "[N20]  25.4927  25.4029    24.95   27.557  0.35948  0.00071  0.35948   58\n",
      "[N21]  25.4820  25.3770    25.22   25.983  0.20356  0.00087  0.20356   49\n",
      "[N22]  25.4788  25.4285    24.98   26.426  0.30405  0.00132  0.30405   62\n",
      "[N23]  25.3746  25.3639    25.02   26.037  0.17125  0.00057  0.17125   37\n",
      "[N24]  25.4201  25.3724    25.00   26.365  0.24156  0.00111  0.24157   52\n",
      "[N25]  25.4702  25.3951    25.11   25.967  0.20219  0.00113  0.20220   35\n",
      "[N26]  25.4110  25.3529    25.08   26.099  0.22175  0.00095  0.22175   33\n",
      "[N27]  25.4424  25.3964    24.98   26.629  0.24702  0.00048  0.24702   45\n",
      "[N28]  25.3942  25.3686    25.04   26.243  0.21043  0.00112  0.21043   38\n",
      "[N29]  25.3991  25.3983    24.81   25.790  0.17947  0.00119  0.17947   48\n",
      "[N31]  25.4227  25.4175    25.08   25.796  0.13073  0.00140  0.13074   48\n"
     ]
    }
   ],
   "source": [
    "ZP_Nr = zeropoint('r','N',0.10,1.065,300)"
   ]
  },
  {
   "cell_type": "markdown",
   "id": "57730e16",
   "metadata": {},
   "source": [
    "## Filter $i$ [S1-S31] CCDs"
   ]
  },
  {
   "cell_type": "code",
   "execution_count": 59,
   "id": "ad6fcfd3",
   "metadata": {},
   "outputs": [
    {
     "name": "stderr",
     "output_type": "stream",
     "text": [
      "WARNING: UnitsWarning: The unit 'ct' has been deprecated in the VOUnit standard. [astropy.units.format.utils]\n",
      "WARNING: UnitsWarning: The unit 'pix' has been deprecated in the VOUnit standard. [astropy.units.format.utils]\n",
      "WARNING: UnitsWarning: Unit 'degrees' not supported by the VOUnit standard.  [astropy.units.format.vounit]\n",
      "/home/alex-cfrd/anaconda3/lib/python3.8/site-packages/numpy/core/fromnumeric.py:758: UserWarning: Warning: 'partition' will ignore the 'mask' of the MaskedColumn.\n",
      "  a.partition(kth, axis=axis, kind=kind, order=order)\n"
     ]
    },
    {
     "name": "stdout",
     "output_type": "stream",
     "text": [
      "#                          ZEROPOINT STATISTICS Si                        \n",
      "#-----------------------------------------------------------------------------\n",
      "#CCD   ZP Mean  ZP Median  ZP Min  ZP Max  ZP Std   MAG Err  QUAD Sum  #STARS\n",
      "#-----------------------------------------------------------------------------\n",
      "[S1]   25.5103  25.4051    25.35   26.272  0.24551  0.00099  0.24552   43\n",
      "[S2]   25.4142  25.3804    25.18   26.048  0.13911  0.00111  0.13911   56\n",
      "[S3]   25.4228  25.3694    24.98   26.046  0.17291  0.00099  0.17292   52\n",
      "[S4]   25.3848  25.3625    25.30   26.105  0.12050  0.00158  0.12051   56\n",
      "[S5]   25.4367  25.3749    25.32   26.039  0.16309  0.00171  0.16310   57\n",
      "[S6]   25.3896  25.3905    25.14   26.111  0.14329  0.00104  0.14330   45\n",
      "[S7]   25.4571  25.4262    25.03   26.229  0.18490  0.00051  0.18490   51\n",
      "[S8]   25.4411  25.4011    25.31   26.019  0.13268  0.00108  0.13268   52\n",
      "[S9]   25.4137  25.3834    25.12   25.977  0.13816  0.00141  0.13817   43\n",
      "[S10]  25.4185  25.3749    25.28   26.006  0.15235  0.00107  0.15236   51\n",
      "[S11]  25.4287  25.3794    25.23   26.156  0.15260  0.00052  0.15260   52\n",
      "[S12]  25.4183  25.3900    25.12   26.228  0.18752  0.00168  0.18753   47\n",
      "[S13]  25.4318  25.3936    25.19   26.245  0.17765  0.00149  0.17765   44\n",
      "[S14]  25.4733  25.4113    25.32   26.193  0.17801  0.00125  0.17801   51\n",
      "[S15]  25.3945  25.3925    25.32   25.640  0.04001  0.00164  0.04005   46\n",
      "[S16]  25.4383  25.3862    24.75   26.786  0.24811  0.00077  0.24811   47\n",
      "[S17]  25.4297  25.3823    25.32   26.365  0.18588  0.00089  0.18588   45\n",
      "[S18]  25.4410  25.3950    25.23   26.109  0.15022  0.00096  0.15022   60\n",
      "[S19]  25.4318  25.4158    25.22   25.771  0.08853  0.00106  0.08854   54\n",
      "[S20]  25.4839  25.4088    25.32   26.186  0.20491  0.00128  0.20492   39\n",
      "[S21]  25.4205  25.3930    25.07   26.012  0.13093  0.00168  0.13094   60\n",
      "[S22]  25.4319  25.3872    25.29   26.138  0.15585  0.00177  0.15586   58\n",
      "[S23]  25.4364  25.4003    25.34   26.301  0.15450  0.00149  0.15450   51\n",
      "[S24]  25.4357  25.4171    25.32   26.256  0.11399  0.00157  0.11400   59\n",
      "[S25]  25.4322  25.4067    25.13   26.115  0.13522  0.00100  0.13523   53\n",
      "[S26]  25.4582  25.4041    25.16   26.338  0.20373  0.00070  0.20373   45\n",
      "[S27]  25.4192  25.4047    25.35   25.902  0.08553  0.00141  0.08554   46\n",
      "[S28]  25.4498  25.4138    25.09   26.245  0.18528  0.00122  0.18528   51\n",
      "[S29]  25.4603  25.4138    25.35   26.047  0.13525  0.00147  0.13526   58\n",
      "[S30]  25.4279  25.4126    24.11   25.983  0.20814  0.00167  0.20814   59\n",
      "[S31]  25.4777  25.4196    25.10   26.313  0.22071  0.00075  0.22071   44\n"
     ]
    }
   ],
   "source": [
    "ZP_Si = zeropoint('i','S',0.06,1.01,360)"
   ]
  },
  {
   "cell_type": "markdown",
   "id": "4b60472c",
   "metadata": {},
   "source": [
    "## Filter $i$ [N1-N31] CCDs (no [N31])"
   ]
  },
  {
   "cell_type": "code",
   "execution_count": 60,
   "id": "c67815ac",
   "metadata": {},
   "outputs": [
    {
     "name": "stderr",
     "output_type": "stream",
     "text": [
      "WARNING: UnitsWarning: The unit 'ct' has been deprecated in the VOUnit standard. [astropy.units.format.utils]\n",
      "WARNING: UnitsWarning: The unit 'pix' has been deprecated in the VOUnit standard. [astropy.units.format.utils]\n",
      "WARNING: UnitsWarning: Unit 'degrees' not supported by the VOUnit standard.  [astropy.units.format.vounit]\n",
      "/home/alex-cfrd/anaconda3/lib/python3.8/site-packages/numpy/core/fromnumeric.py:758: UserWarning: Warning: 'partition' will ignore the 'mask' of the MaskedColumn.\n",
      "  a.partition(kth, axis=axis, kind=kind, order=order)\n"
     ]
    },
    {
     "name": "stdout",
     "output_type": "stream",
     "text": [
      "#                          ZEROPOINT STATISTICS Ni                        \n",
      "#-----------------------------------------------------------------------------\n",
      "#CCD   ZP Mean  ZP Median  ZP Min  ZP Max  ZP Std   MAG Err  QUAD Sum  #STARS\n",
      "#-----------------------------------------------------------------------------\n",
      "[N1]   25.4803  25.4152    25.35   26.105  0.18423  0.00119  0.18423   44\n",
      "[N2]   25.4511  25.3943    25.34   26.263  0.19370  0.00171  0.19371   51\n",
      "[N3]   25.4393  25.3799    25.16   26.210  0.17503  0.00115  0.17504   65\n",
      "[N4]   25.4173  25.3811    23.46   26.418  0.38211  0.00072  0.38211   43\n",
      "[N5]   25.4282  25.3906    25.26   26.090  0.14282  0.00089  0.14282   53\n",
      "[N6]   25.4102  25.3953    25.24   25.650  0.07487  0.00119  0.07488   39\n",
      "[N7]   25.4899  25.4242    25.37   26.880  0.24400  0.00060  0.24400   49\n",
      "[N8]   25.5261  25.4148    25.21   26.442  0.28045  0.00178  0.28045   40\n",
      "[N9]   25.3924  25.3924    25.39   25.392  0.0  0.00170  0.00170   1\n",
      "[N10]  25.4738  25.3811    25.27   26.239  0.22060  0.00055  0.22060   62\n",
      "[N11]  25.4537  25.3799    25.30   26.280  0.21049  0.00117  0.21049   50\n",
      "[N12]  25.4576  25.3880    25.23   26.385  0.23908  0.00120  0.23908   53\n",
      "[N13]  25.4472  25.4021    25.32   26.036  0.14763  0.00069  0.14763   53\n",
      "[N14]  25.5072  25.4162    25.38   27.286  0.30308  0.00107  0.30308   50\n",
      "[N15]  25.4554  25.3947    25.36   26.522  0.20332  0.00101  0.20333   60\n",
      "[N16]  25.4385  25.3884    25.36   26.062  0.13361  0.00070  0.13361   39\n",
      "[N17]  25.4644  25.3897    25.31   26.123  0.20953  0.00143  0.20953   49\n",
      "[N18]  25.4001  25.3916    25.27   26.071  0.12501  0.00106  0.12501   59\n",
      "[N19]  25.4588  25.4077    25.32   26.592  0.20017  0.00182  0.20018   49\n",
      "[N20]  25.5484  25.4115    25.23   27.533  0.35526  0.00156  0.35527   67\n",
      "[N21]  25.4528  25.3958    25.28   26.328  0.20232  0.00212  0.20233   50\n",
      "[N22]  25.4071  25.3896    25.13   26.073  0.10876  0.00133  0.10877   66\n",
      "[N23]  25.4146  25.3958    25.26   25.814  0.10382  0.00105  0.10383   47\n",
      "[N24]  25.4476  25.4041    25.25   26.234  0.15672  0.00108  0.15672   60\n",
      "[N25]  25.4681  25.4117    25.36   26.109  0.16960  0.00103  0.16960   44\n",
      "[N26]  25.3990  25.4080    25.11   25.629  0.07566  0.00102  0.07566   46\n",
      "[N27]  25.4859  25.4078    25.32   26.196  0.18499  0.00055  0.18500   53\n",
      "[N28]  25.4273  25.4070    25.31   26.140  0.13099  0.00141  0.13100   50\n",
      "[N29]  25.4772  25.4197    24.92   25.999  0.15324  0.00136  0.15325   55\n",
      "[N31]  25.4651  25.4202    25.37   26.078  0.14146  0.00139  0.14147   51\n"
     ]
    }
   ],
   "source": [
    "ZP_Ni = zeropoint('i','N',0.06,1.01,360)"
   ]
  },
  {
   "cell_type": "markdown",
   "id": "603b6795",
   "metadata": {},
   "source": [
    "## Filter $z$ [S1-S31] CCDs"
   ]
  },
  {
   "cell_type": "code",
   "execution_count": 61,
   "id": "1b940670",
   "metadata": {},
   "outputs": [
    {
     "name": "stderr",
     "output_type": "stream",
     "text": [
      "WARNING: UnitsWarning: The unit 'ct' has been deprecated in the VOUnit standard. [astropy.units.format.utils]\n",
      "WARNING: UnitsWarning: The unit 'pix' has been deprecated in the VOUnit standard. [astropy.units.format.utils]\n",
      "WARNING: UnitsWarning: Unit 'degrees' not supported by the VOUnit standard.  [astropy.units.format.vounit]\n",
      "/home/alex-cfrd/anaconda3/lib/python3.8/site-packages/numpy/core/fromnumeric.py:758: UserWarning: Warning: 'partition' will ignore the 'mask' of the MaskedColumn.\n",
      "  a.partition(kth, axis=axis, kind=kind, order=order)\n"
     ]
    },
    {
     "name": "stdout",
     "output_type": "stream",
     "text": [
      "#                          ZEROPOINT STATISTICS Sz                        \n",
      "#-----------------------------------------------------------------------------\n",
      "#CCD   ZP Mean  ZP Median  ZP Min  ZP Max  ZP Std   MAG Err  QUAD Sum  #STARS\n",
      "#-----------------------------------------------------------------------------\n",
      "[S1]   25.1902  25.1475    25.04   25.658  0.13494  0.00148  0.13495   36\n",
      "[S2]   25.1592  25.1315    25.06   25.464  0.08614  0.00182  0.08615   52\n",
      "[S3]   25.0895  25.0751    24.93   25.695  0.10507  0.00131  0.10508   44\n",
      "[S4]   25.1152  25.1101    25.01   25.442  0.08075  0.00154  0.08077   53\n",
      "[S5]   25.1504  25.1172    25.02   25.709  0.12112  0.00194  0.12114   55\n",
      "[S6]   25.1567  25.1259    25.04   25.564  0.11650  0.00084  0.11650   44\n",
      "[S7]   25.1242  25.1480    23.47   25.529  0.24909  0.00095  0.24909   49\n",
      "[S8]   25.1767  25.1463    25.05   25.883  0.13254  0.00053  0.13254   49\n",
      "[S9]   25.1228  25.1146    25.04   25.352  0.06053  0.00129  0.06054   40\n",
      "[S10]  25.1458  25.1103    24.99   25.789  0.15402  0.00190  0.15403   48\n",
      "[S11]  25.1469  25.1018    25.02   25.889  0.16407  0.00059  0.16408   45\n",
      "[S12]  25.1436  25.1359    25.02   25.430  0.08950  0.00152  0.08951   45\n",
      "[S13]  25.1470  25.1410    24.90   25.415  0.08554  0.00168  0.08555   38\n",
      "[S14]  25.1763  25.1571    24.98   25.700  0.12978  0.00100  0.12978   52\n",
      "[S15]  25.1221  25.1320    25.05   25.187  0.03749  0.00063  0.03749   41\n",
      "[S16]  25.2108  25.1170    25.04   26.453  0.25746  0.00136  0.25746   46\n",
      "[S17]  25.1387  25.1102    25.02   25.614  0.12744  0.00194  0.12746   34\n",
      "[S18]  25.2007  25.1406    25.03   26.151  0.19844  0.00093  0.19844   53\n",
      "[S19]  25.1573  25.1533    25.07   25.443  0.06702  0.00136  0.06703   49\n",
      "[S20]  25.2079  25.1524    25.07   25.881  0.19800  0.00122  0.19800   31\n",
      "[S21]  25.1467  25.1402    25.04   25.544  0.08922  0.00195  0.08924   48\n",
      "[S22]  25.1570  25.1312    24.91   26.235  0.17707  0.00092  0.17708   49\n",
      "[S23]  25.1336  25.1357    25.05   25.303  0.04196  0.00107  0.04198   47\n",
      "[S24]  25.1631  25.1621    25.07   25.295  0.04533  0.00109  0.04534   51\n",
      "[S25]  25.1801  25.1530    25.05   25.826  0.15410  0.00137  0.15411   43\n",
      "[S26]  25.1551  25.1335    25.03   25.535  0.09818  0.00107  0.09818   43\n",
      "[S27]  25.2107  25.1466    25.06   27.004  0.31311  0.00171  0.31312   38\n",
      "[S28]  25.1512  25.1546    24.40   25.548  0.14108  0.00130  0.14109   52\n",
      "[S29]  25.2370  25.1729    25.06   25.812  0.19523  0.00084  0.19524   49\n",
      "[S30]  25.2263  25.1764    25.00   25.663  0.14642  0.00070  0.14642   44\n",
      "[S31]  25.2225  25.1683    25.08   25.786  0.15719  0.00084  0.15719   45\n"
     ]
    }
   ],
   "source": [
    "ZP_Sz = zeropoint('z','S',0.07,1.046,360)"
   ]
  },
  {
   "cell_type": "markdown",
   "id": "c03af83c",
   "metadata": {},
   "source": [
    "## Filter $z$ [N1-N31] CCDs (no [N31])"
   ]
  },
  {
   "cell_type": "code",
   "execution_count": 62,
   "id": "5ee64994",
   "metadata": {},
   "outputs": [
    {
     "name": "stderr",
     "output_type": "stream",
     "text": [
      "WARNING: UnitsWarning: The unit 'ct' has been deprecated in the VOUnit standard. [astropy.units.format.utils]\n",
      "WARNING: UnitsWarning: The unit 'pix' has been deprecated in the VOUnit standard. [astropy.units.format.utils]\n",
      "WARNING: UnitsWarning: Unit 'degrees' not supported by the VOUnit standard.  [astropy.units.format.vounit]\n",
      "/home/alex-cfrd/anaconda3/lib/python3.8/site-packages/numpy/core/fromnumeric.py:758: UserWarning: Warning: 'partition' will ignore the 'mask' of the MaskedColumn.\n",
      "  a.partition(kth, axis=axis, kind=kind, order=order)\n"
     ]
    },
    {
     "name": "stdout",
     "output_type": "stream",
     "text": [
      "#                          ZEROPOINT STATISTICS Nz                        \n",
      "#-----------------------------------------------------------------------------\n",
      "#CCD   ZP Mean  ZP Median  ZP Min  ZP Max  ZP Std   MAG Err  QUAD Sum  #STARS\n",
      "#-----------------------------------------------------------------------------\n",
      "[N1]   25.1603  25.1551    25.08   25.317  0.04199  0.00184  0.04203   40\n",
      "[N2]   25.1267  25.1251    25.02   25.281  0.04768  0.00163  0.04771   49\n",
      "[N3]   25.1125  25.0975    25.01   25.692  0.10198  0.00182  0.10199   52\n",
      "[N4]   25.1097  25.1005    25.01   25.381  0.08361  0.00187  0.08363   36\n",
      "[N5]   25.1561  25.0998    25.02   25.643  0.15467  0.00178  0.15468   42\n",
      "[N6]   25.1716  25.1509    25.03   25.576  0.09167  0.00169  0.09169   39\n",
      "[N7]   25.1777  25.1553    25.07   25.731  0.12365  0.00156  0.12366   42\n",
      "[N8]   25.1891  25.1504    24.93   25.685  0.14548  0.00188  0.14549   30\n",
      "[N9]   25.1470  25.1209    25.04   25.616  0.10870  0.00099  0.10871   44\n",
      "[N10]  25.1110  25.1035    24.97   25.397  0.07624  0.00080  0.07624   51\n",
      "[N11]  25.1511  25.0905    25.00   26.968  0.29463  0.00129  0.29463   46\n",
      "[N12]  25.1506  25.1148    25.00   25.737  0.15338  0.00067  0.15338   55\n",
      "[N13]  25.1852  25.1609    25.04   25.722  0.11811  0.00138  0.11811   49\n",
      "[N14]  25.2631  25.1689    25.07   26.597  0.27801  0.00108  0.27801   46\n",
      "[N15]  25.2119  25.1301    25.06   26.061  0.23733  0.00061  0.23733   51\n",
      "[N16]  25.1593  25.1072    25.02   25.693  0.14361  0.00187  0.14362   32\n",
      "[N17]  25.1292  25.0934    25.00   25.665  0.13519  0.00076  0.13520   49\n",
      "[N18]  25.1487  25.1346    25.03   25.639  0.09599  0.00066  0.09599   57\n",
      "[N19]  25.1717  25.1513    25.07   25.644  0.09650  0.00140  0.09651   51\n",
      "[N20]  25.1801  25.1638    24.34   25.779  0.17040  0.00179  0.17041   63\n",
      "[N21]  25.1574  25.1392    25.05   25.590  0.11010  0.00067  0.11010   41\n",
      "[N22]  25.1437  25.1246    24.84   25.890  0.14801  0.00162  0.14802   60\n",
      "[N23]  25.1335  25.1343    24.54   25.482  0.12305  0.00149  0.12306   41\n",
      "[N24]  25.1608  25.1493    25.04   25.457  0.08892  0.00215  0.08895   56\n",
      "[N25]  25.1799  25.1485    25.07   25.883  0.13310  0.00100  0.13311   36\n",
      "[N26]  25.1581  25.1380    25.06   25.606  0.09866  0.00152  0.09867   37\n",
      "[N27]  25.1590  25.1394    24.85   25.785  0.13756  0.00196  0.13757   54\n",
      "[N28]  25.1515  25.1514    25.07   25.225  0.03443  0.00224  0.03450   44\n",
      "[N29]  25.1605  25.1342    25.06   25.673  0.10662  0.00057  0.10662   53\n",
      "[N31]  25.2054  25.1518    25.07   26.940  0.25872  0.00204  0.25873   53\n"
     ]
    }
   ],
   "source": [
    "ZP_Nz = zeropoint('z','N',0.07,1.046,360)"
   ]
  }
 ],
 "metadata": {
  "kernelspec": {
   "display_name": "Python 3",
   "language": "python",
   "name": "python3"
  },
  "language_info": {
   "codemirror_mode": {
    "name": "ipython",
    "version": 3
   },
   "file_extension": ".py",
   "mimetype": "text/x-python",
   "name": "python",
   "nbconvert_exporter": "python",
   "pygments_lexer": "ipython3",
   "version": "3.8.10"
  }
 },
 "nbformat": 4,
 "nbformat_minor": 5
}
